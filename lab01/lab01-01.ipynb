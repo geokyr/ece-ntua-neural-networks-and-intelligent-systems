{
 "cells": [
  {
   "cell_type": "markdown",
   "metadata": {},
   "source": [
    "# TEAM 44 - HCC Survival (U05)"
   ]
  },
  {
   "cell_type": "markdown",
   "metadata": {},
   "source": [
    "This is the first part of the first lab assignment of the course \"Neural Networks and Intelligent Systems\" at the National Technical University of Athens.\n",
    "\n",
    "**Team 44** consists of **George Kyriakopoulos** (03118153) and **Serafeim Tzelepis** (03118849)."
   ]
  },
  {
   "cell_type": "markdown",
   "metadata": {},
   "source": [
    "## Packages and imports"
   ]
  },
  {
   "cell_type": "code",
   "execution_count": null,
   "metadata": {},
   "outputs": [],
   "source": [
    "%pip install pip --upgrade\n",
    "%pip install scikit-learn --upgrade\n",
    "%pip install numpy --upgrade\n",
    "%pip install matplotlib --upgrade\n",
    "%pip install imbalanced-learn --upgrade\n",
    "%pip install pandas --upgrade\n",
    "%pip install tabulate --upgrade\n",
    "%pip install seaborn --upgrade"
   ]
  },
  {
   "cell_type": "code",
   "execution_count": 2,
   "metadata": {},
   "outputs": [],
   "source": [
    "import time\n",
    "import pandas as pd\n",
    "import numpy as np\n",
    "import matplotlib.pyplot as plt\n",
    "import seaborn as sns\n",
    "from tabulate import tabulate\n",
    "from sklearn.model_selection import train_test_split\n",
    "from sklearn.dummy import DummyClassifier\n",
    "from sklearn.naive_bayes import GaussianNB\n",
    "from sklearn.neighbors import KNeighborsClassifier\n",
    "from sklearn.linear_model import LogisticRegression\n",
    "from sklearn.metrics import accuracy_score, f1_score\n",
    "from sklearn.model_selection import cross_val_score\n",
    "from sklearn.impute import SimpleImputer\n",
    "from imblearn.pipeline import Pipeline\n",
    "from sklearn.model_selection import GridSearchCV\n",
    "from sklearn.feature_selection import VarianceThreshold\n",
    "from sklearn.preprocessing import StandardScaler\n",
    "from sklearn.preprocessing import MinMaxScaler\n",
    "from imblearn.over_sampling import RandomOverSampler\n",
    "from imblearn.under_sampling import RandomUnderSampler\n",
    "from sklearn.decomposition import PCA\n",
    "from sklearn.metrics import confusion_matrix"
   ]
  },
  {
   "cell_type": "markdown",
   "metadata": {},
   "source": [
    "## Intoduction and Overview"
   ]
  },
  {
   "cell_type": "markdown",
   "metadata": {},
   "source": [
    "For this part we will use a UCI dataset, [HCC Survival](https://archive.ics.uci.edu/ml/datasets/HCC+Survival).\n",
    "\n",
    "HCC dataset was obtained at a University Hospital in Portugal and contais several demographic, risk factors, laboratory and overall survival features of 165 real patients diagnosed with HCC. The dataset contains 49 features selected according to the EASL-EORTC (European Association for the Study of the Liver - European Organisation for Research and Treatment of Cancer) Clinical Practice Guidelines, which are the current state-of-the-art on the management of HCC.\n",
    "\n",
    "This is an heterogeneous dataset, with 23 quantitative variables, and 26 qualitative variables. Overall, missing data represents 10.22% of the whole dataset and only eight patients have complete information in all fields (4.85%). The target variables is the survival at 1 year, and was encoded as a binary variable: 0 (dies) and 1 (lives). A certain degree of class-imbalance is also present (63 cases labeled as dies and 102 as lives)."
   ]
  },
  {
   "cell_type": "code",
   "execution_count": 3,
   "metadata": {},
   "outputs": [
    {
     "name": "stdout",
     "output_type": "stream",
     "text": [
      "<class 'pandas.core.frame.DataFrame'>\n",
      "RangeIndex: 165 entries, 0 to 164\n",
      "Data columns (total 50 columns):\n",
      " #   Column  Non-Null Count  Dtype  \n",
      "---  ------  --------------  -----  \n",
      " 0   0       165 non-null    int64  \n",
      " 1   1       147 non-null    float64\n",
      " 2   2       165 non-null    int64  \n",
      " 3   3       148 non-null    float64\n",
      " 4   4       126 non-null    float64\n",
      " 5   5       141 non-null    float64\n",
      " 6   6       156 non-null    float64\n",
      " 7   7       165 non-null    int64  \n",
      " 8   8       126 non-null    float64\n",
      " 9   9       124 non-null    float64\n",
      " 10  10      162 non-null    float64\n",
      " 11  11      155 non-null    float64\n",
      " 12  12      142 non-null    float64\n",
      " 13  13      162 non-null    float64\n",
      " 14  14      163 non-null    float64\n",
      " 15  15      151 non-null    float64\n",
      " 16  16      143 non-null    float64\n",
      " 17  17      113 non-null    float64\n",
      " 18  18      150 non-null    float64\n",
      " 19  19      154 non-null    float64\n",
      " 20  20      162 non-null    float64\n",
      " 21  21      161 non-null    float64\n",
      " 22  22      163 non-null    float64\n",
      " 23  23      165 non-null    int64  \n",
      " 24  24      117 non-null    float64\n",
      " 25  25      112 non-null    float64\n",
      " 26  26      165 non-null    int64  \n",
      " 27  27      164 non-null    float64\n",
      " 28  28      163 non-null    float64\n",
      " 29  29      161 non-null    float64\n",
      " 30  30      157 non-null    float64\n",
      " 31  31      162 non-null    float64\n",
      " 32  32      162 non-null    float64\n",
      " 33  33      162 non-null    float64\n",
      " 34  34      162 non-null    float64\n",
      " 35  35      159 non-null    float64\n",
      " 36  36      160 non-null    float64\n",
      " 37  37      161 non-null    float64\n",
      " 38  38      162 non-null    float64\n",
      " 39  39      162 non-null    float64\n",
      " 40  40      162 non-null    float64\n",
      " 41  41      154 non-null    float64\n",
      " 42  42      158 non-null    float64\n",
      " 43  43      163 non-null    float64\n",
      " 44  44      145 non-null    float64\n",
      " 45  45      121 non-null    float64\n",
      " 46  46      86 non-null     float64\n",
      " 47  47      85 non-null     float64\n",
      " 48  48      85 non-null     float64\n",
      " 49  49      165 non-null    int64  \n",
      "dtypes: float64(44), int64(6)\n",
      "memory usage: 64.6 KB\n",
      "None\n"
     ]
    }
   ],
   "source": [
    "# get hcc_data.txt file\n",
    "!wget -q http://archive.ics.uci.edu/ml/machine-learning-databases/00423/hcc-survival.zip -P resources\n",
    "!unzip -q resources/hcc-survival.zip -d resources\n",
    "!rm resources/hcc-survival.zip\n",
    "!rm -r resources/__MACOSX\n",
    "!mv resources/hcc-survival/hcc-data.txt resources/hcc-data.txt\n",
    "!mv resources/hcc-survival/hcc-description.txt resources/hcc-description.txt\n",
    "!rm -r resources/hcc-survival\n",
    "\n",
    "# read data from hcc_data.txt file and replace missing values with NaN\n",
    "df = pd.read_csv(\"resources/hcc-data.txt\", header=None, na_values = '?')\n",
    "\n",
    "# print basic info about dataframe\n",
    "print(df.info())"
   ]
  },
  {
   "cell_type": "markdown",
   "metadata": {},
   "source": [
    "The only transformation applied to the original dataset was the replacement of missing values (denoted by \"?\") by NaN value, using the pandas.read_csv function with the na_values parameter."
   ]
  },
  {
   "cell_type": "markdown",
   "metadata": {},
   "source": [
    "There are 165 samples and 49 features in the dataset. The types of the features are as follows:\n",
    "\n",
    "* Gender: nominal\n",
    "* Symptoms: nominal\n",
    "* Alcohol: nominal\n",
    "* Hepatitis B Surface Antigen: nominal\n",
    "* Hepatitis B e Antigen: nominal\n",
    "* Hepatitis B Core Antibody: nominal\n",
    "* Hepatitis C Virus Antibody: nominal\n",
    "* Cirrhosis : nominal\n",
    "* Endemic Countries: nominal\n",
    "* Smoking: nominal\n",
    "* Diabetes: nominal\n",
    "* Obesity: nominal\n",
    "* Hemochromatosis: nominal\n",
    "* Arterial Hypertension: nominal\n",
    "* Chronic Renal Insufficiency: nominal\n",
    "* Human Immunodeficiency Virus: nominal\n",
    "* Nonalcoholic Steatohepatitis: nominal\n",
    "* Esophageal Varices: nominal\n",
    "* Splenomegaly: nominal\n",
    "* Portal Hypertension: nominal\n",
    "* Portal Vein Thrombosis: nominal\n",
    "* Liver Metastasis: nominal\n",
    "* Radiological Hallmark: nominal\n",
    "* Age at diagnosis: integer\n",
    "* Grams of Alcohol per day: continuous\n",
    "* Packs of cigarets per year: continuous\n",
    "* Performance Status: ordinal\n",
    "* Encefalopathy degree: ordinal\n",
    "* Ascites degree: ordinal\n",
    "* International Normalised Ratio: continuous\n",
    "* Alpha-Fetoprotein (ng/mL): continuous\n",
    "* Haemoglobin (g/dL): continuous\n",
    "* Mean Corpuscular Volume (fl): continuous\n",
    "* Leukocytes(G/L): continuous\n",
    "* Platelets (G/L): continuous\n",
    "* Albumin (mg/dL): continuous\n",
    "* Total Bilirubin(mg/dL): continuous\n",
    "* Alanine transaminase (U/L): continuous\n",
    "* Aspartate transaminase (U/L): continuous\n",
    "* Gamma glutamyl transferase (U/L): continuous\n",
    "* Alkaline phosphatase (U/L): continuous\n",
    "* Total Proteins (g/dL): continuous\n",
    "* Creatinine (mg/dL): continuous\n",
    "* Number of Nodules: integer\n",
    "* Major dimension of nodule (cm): continuous\n",
    "* Direct Bilirubin (mg/dL): continuous\n",
    "* Iron (mcg/dL): continuous\n",
    "* Oxygen Saturation (%): continuous\n",
    "* Ferritin (ng/mL): continuous\n",
    "\n",
    "All the nominal features (the first 23) are not ordinal features."
   ]
  },
  {
   "cell_type": "markdown",
   "metadata": {},
   "source": [
    "There are no labels for the features and no row indexing."
   ]
  },
  {
   "cell_type": "markdown",
   "metadata": {},
   "source": [
    "The last column (50th) is the label of the classes, which is the survival at 1 year, and was encoded as a binary variable: 0 (dies) and 1 (lives)."
   ]
  },
  {
   "cell_type": "code",
   "execution_count": 4,
   "metadata": {},
   "outputs": [
    {
     "name": "stdout",
     "output_type": "stream",
     "text": [
      "Number of samples with missing values: 157\n",
      "Percentage of samples with missing values: 95.15%\n",
      "Percentage of missing values to total number of values: 10.22%\n",
      "Class frequencies: [ 63 102]\n",
      "Percentage of negative samples: 38.18%\n",
      "Percentage of positive samples: 61.82%\n",
      "Class frequency ratio: 1.62\n"
     ]
    }
   ],
   "source": [
    "# slice the dataframe to split the features from the labels\n",
    "labels_df = df.iloc[:, -1]\n",
    "labels = labels_df.values.reshape(165)\n",
    "features_df = df.iloc[:, :-1]\n",
    "features = features_df.values\n",
    "\n",
    "# print info needed to answer the questions\n",
    "print(f\"Number of samples with missing values: {features_df.isnull().values.any(axis=1).sum()}\")\n",
    "print(f\"Percentage of samples with missing values: {np.format_float_positional(features_df.isnull().values.any(axis=1).sum()/features_df.shape[0]*100, 2)}%\")\n",
    "print(f\"Percentage of missing values to total number of values: {np.format_float_positional(features_df.isnull().values.sum()/features_df.size*100, 2)}%\")\n",
    "\n",
    "print(f\"Class frequencies: {np.bincount(labels)}\")\n",
    "print(f\"Percentage of negative samples: {np.format_float_positional(np.bincount(labels)[0]/labels.shape[0]*100, 2)}%\")\n",
    "print(f\"Percentage of positive samples: {np.format_float_positional(np.bincount(labels)[1]/labels.shape[0]*100, 2)}%\")\n",
    "print(f\"Class frequency ratio: {np.format_float_positional(np.max(np.bincount(labels))/np.min(np.bincount(labels)), 2)}\")"
   ]
  },
  {
   "cell_type": "markdown",
   "metadata": {},
   "source": [
    "There are missing values. The number of samples with missing values is 157, and their percentage with respect to total number of samples is 95.15%. The missing data represents 10.22% of the whole dataset."
   ]
  },
  {
   "cell_type": "markdown",
   "metadata": {},
   "source": [
    "There are 63 cases labeled as dies and 102 as lives, with 38.18% and 61.82% respectively. This is a class-imbalanced binary dataset, as the 60%-40% ratio is not respected, as showcased by the class frequency ratio with a value over 1.5."
   ]
  },
  {
   "cell_type": "markdown",
   "metadata": {},
   "source": [
    "## Preparation"
   ]
  },
  {
   "cell_type": "code",
   "execution_count": 5,
   "metadata": {},
   "outputs": [],
   "source": [
    "# split the data into train (70%) and test sets (30%)\n",
    "X_train, X_test, y_train, y_test = train_test_split(features, labels, test_size=0.3, random_state=42)"
   ]
  },
  {
   "cell_type": "code",
   "execution_count": 6,
   "metadata": {},
   "outputs": [],
   "source": [
    "# use 3 imputers with most frequent, mean and median strategies\n",
    "imp1 = SimpleImputer(missing_values=np.nan, strategy='most_frequent')\n",
    "imp2 = SimpleImputer(missing_values=np.nan, strategy='mean')\n",
    "imp3 = SimpleImputer(missing_values=np.nan, strategy='median')\n",
    "\n",
    "# masks for different types of data\n",
    "mask1 = [0, 1, 2, 3, 4, 5, 6, 7, 8, 9, 10, 11, 12, 13, 14, 15, 16, 17, 18, 19, 20, 21, 22, 26, 27, 28]\n",
    "mask2 = [24, 25, 29, 30, 31, 32, 33, 34, 35, 36, 37, 38, 39, 40, 41, 42, 44, 45, 46, 47, 48]\n",
    "mask3 = [23, 43]\n",
    "imp1.fit(X_train[:, mask1])\n",
    "imp2.fit(X_train[:, mask2])\n",
    "imp3.fit(X_train[:, mask3])\n",
    "\n",
    "# impute missing values with above strategies\n",
    "X_train[:, mask1] = imp1.transform(X_train[:, mask1])\n",
    "X_train[:, mask2] = imp2.transform(X_train[:, mask2])\n",
    "X_train[:, mask3] = imp3.transform(X_train[:, mask3])\n",
    "X_test[:, mask1] = imp1.transform(X_test[:, mask1])\n",
    "X_test[:, mask2] = imp2.transform(X_test[:, mask2])\n",
    "X_test[:, mask3] = imp3.transform(X_test[:, mask3])"
   ]
  },
  {
   "cell_type": "markdown",
   "metadata": {},
   "source": [
    "For the missing values we will use the SimpleImputer class from the sklearn.impute module. We will use the most frequentm, mean and the median strategy. The most frequent strategy replaces missing values using the most frequent value along each column, the mean strategy replaces missing values using the mean value along each column, while the median strategy replaces missing values using the median value along each column.\n",
    "\n",
    "We used the most frequent strategy on the nominal and ordinal features, the mean strategy on the continuous features and the median value on the integer features."
   ]
  },
  {
   "cell_type": "code",
   "execution_count": 7,
   "metadata": {},
   "outputs": [
    {
     "name": "stdout",
     "output_type": "stream",
     "text": [
      "Number of samples and features of X_train data: (115, 72)\n",
      "Number of samples and features of X_test data: (50, 72)\n"
     ]
    }
   ],
   "source": [
    "# create pandas dataframes for the train and test data\n",
    "train_data = pd.DataFrame(X_train)\n",
    "test_data = pd.DataFrame(X_test)\n",
    "\n",
    "# concat the train and test data and create dummy features for the nominal ones\n",
    "data = pd.concat([train_data, test_data], axis=0)\n",
    "data = pd.get_dummies(data, columns = [0, 1, 2, 3, 4, 5, 6, 7, 8, 9, 10, 11, 12, 13, 14, 15, 16, 17, 18, 19, 20, 21, 22])\n",
    "\n",
    "# split the data to train and test again with 70-30 ratio\n",
    "X_train = data.iloc[0:115, :].values\n",
    "X_test = data.iloc[115:165, :].values\n",
    "\n",
    "print(f\"Number of samples and features of X_train data: {X_train.shape}\")\n",
    "print(f\"Number of samples and features of X_test data: {X_test.shape}\")"
   ]
  },
  {
   "cell_type": "markdown",
   "metadata": {},
   "source": [
    "For the nominal features we will use the get_dummies function from the pandas module. This function is used to convert categorical variable into dummy/indicator variables.\n",
    "\n",
    "We had to concat the train and test data so that the dummy/indicator variables end up being the same for both sets. We then split the data back into train and test sets, following the initial 70-30 ratio."
   ]
  },
  {
   "cell_type": "markdown",
   "metadata": {},
   "source": [
    "## Classification"
   ]
  },
  {
   "cell_type": "markdown",
   "metadata": {},
   "source": [
    "### Out of the box"
   ]
  },
  {
   "cell_type": "code",
   "execution_count": null,
   "metadata": {},
   "outputs": [],
   "source": [
    "# classifiers\n",
    "DC = DummyClassifier()\n",
    "GNB = GaussianNB()\n",
    "KNN = KNeighborsClassifier()\n",
    "LR = LogisticRegression()\n",
    "\n",
    "# dictionaries for results\n",
    "names = {}\n",
    "ootb_accuracy = {}\n",
    "ootb_f1 = {}\n",
    "ootb_accuracy_cv = {}\n",
    "ootb_f1_cv = {}\n",
    "\n",
    "# names of classifiers\n",
    "names['DC'] = 'Dummy Classifier'\n",
    "names['GNB'] = 'Gaussian Naive Bayes'\n",
    "names['KNN'] = 'K-Nearest Neighbors'\n",
    "names['LR'] = 'Logistic Regression'\n",
    "\n",
    "# fit the classifiers\n",
    "DC.fit(X_train, y_train)\n",
    "GNB.fit(X_train, y_train)\n",
    "KNN.fit(X_train, y_train)\n",
    "LR.fit(X_train, y_train)\n",
    "\n",
    "# predict\n",
    "y_pred_DC = DC.predict(X_test)\n",
    "y_pred_GNB = GNB.predict(X_test)\n",
    "y_pred_KNN = KNN.predict(X_test)\n",
    "y_pred_LR = LR.predict(X_test)\n",
    "\n",
    "# accuracy\n",
    "ootb_accuracy['DC'] = accuracy_score(y_test, y_pred_DC)\n",
    "ootb_accuracy['GNB'] = accuracy_score(y_test, y_pred_GNB)\n",
    "ootb_accuracy['KNN'] = accuracy_score(y_test, y_pred_KNN)\n",
    "ootb_accuracy['LR'] = accuracy_score(y_test, y_pred_LR)\n",
    "\n",
    "# f1 score\n",
    "ootb_f1['DC'] = f1_score(y_test, y_pred_DC)\n",
    "ootb_f1['GNB'] = f1_score(y_test, y_pred_GNB)\n",
    "ootb_f1['KNN'] = f1_score(y_test, y_pred_KNN)\n",
    "ootb_f1['LR'] = f1_score(y_test, y_pred_LR)\n",
    "\n",
    "# 10-fold cross validation accuracy\n",
    "ootb_accuracy_cv['DC'] = cross_val_score(DC, X_train, y_train, cv=10, scoring='accuracy').mean()\n",
    "ootb_accuracy_cv['GNB'] = cross_val_score(GNB, X_train, y_train, cv=10, scoring='accuracy').mean()\n",
    "ootb_accuracy_cv['KNN'] = cross_val_score(KNN, X_train, y_train, cv=10, scoring='accuracy').mean()\n",
    "ootb_accuracy_cv['LR'] = cross_val_score(LR, X_train, y_train, cv=10, scoring='accuracy').mean()\n",
    "\n",
    "# 10-fold cross validation f1 score\n",
    "ootb_f1_cv['DC'] = cross_val_score(DC, X_train, y_train, cv=10, scoring='f1').mean()\n",
    "ootb_f1_cv['GNB'] = cross_val_score(GNB, X_train, y_train, cv=10, scoring='f1').mean()\n",
    "ootb_f1_cv['KNN'] = cross_val_score(KNN, X_train, y_train, cv=10, scoring='f1').mean()\n",
    "ootb_f1_cv['LR'] = cross_val_score(LR, X_train, y_train, cv=10, scoring='f1').mean()"
   ]
  },
  {
   "cell_type": "code",
   "execution_count": 27,
   "metadata": {},
   "outputs": [
    {
     "data": {
      "image/png": "[encoded data removed]",
      "text/plain": [
       "<Figure size 1000x500 with 4 Axes>"
      ]
     },
     "metadata": {},
     "output_type": "display_data"
    },
    {
     "name": "stdout",
     "output_type": "stream",
     "text": [
      "╭──────────────────────┬────────────┬────────────┬───────────────────────────────────────┬───────────────────────────────────────╮\n",
      "│ Classifier           │   Accuracy │   F1 score │   Accuracy (10-Fold Cross-Validation) │   F1 score (10-Fold Cross-Validation) │\n",
      "├──────────────────────┼────────────┼────────────┼───────────────────────────────────────┼───────────────────────────────────────┤\n",
      "│ Dummy Classifier     │       0.56 │       0.72 │                                  0.64 │                                  0.78 │\n",
      "├──────────────────────┼────────────┼────────────┼───────────────────────────────────────┼───────────────────────────────────────┤\n",
      "│ Gaussian Naive Bayes │       0.64 │       0.72 │                                  0.69 │                                  0.77 │\n",
      "├──────────────────────┼────────────┼────────────┼───────────────────────────────────────┼───────────────────────────────────────┤\n",
      "│ K-Nearest Neighbors  │       0.56 │       0.66 │                                  0.65 │                                  0.74 │\n",
      "├──────────────────────┼────────────┼────────────┼───────────────────────────────────────┼───────────────────────────────────────┤\n",
      "│ Logistic Regression  │       0.68 │       0.73 │                                  0.70 │                                  0.77 │\n",
      "╰──────────────────────┴────────────┴────────────┴───────────────────────────────────────┴───────────────────────────────────────╯\n"
     ]
    }
   ],
   "source": [
    "color = 2 * ['tab:blue', 'tab:orange']\n",
    "\n",
    "# bar plot accuracy\n",
    "plt.figure(figsize=(10, 5))\n",
    "plt.subplot(1, 4, 1)\n",
    "plt.bar(range(len(ootb_accuracy)), list(ootb_accuracy.values()), align='center', color=color)\n",
    "plt.xticks(range(len(ootb_accuracy)), list(ootb_accuracy.keys()))\n",
    "plt.bar_label(plt.gca().containers[0], fmt='%.2f')\n",
    "plt.title(\"Accuracy\")\n",
    "\n",
    "# bar plot f1 score\n",
    "plt.subplot(1, 4, 2)\n",
    "plt.bar(range(len(ootb_f1)), list(ootb_f1.values()), align='center', color=color)\n",
    "plt.xticks(range(len(ootb_f1)), list(ootb_f1.keys()))\n",
    "plt.bar_label(plt.gca().containers[0], fmt='%.2f')\n",
    "plt.title(\"F1 score\")\n",
    "\n",
    "# bar plot cross validation accuracy\n",
    "plt.subplot(1, 4, 3)\n",
    "plt.bar(range(len(ootb_accuracy_cv)), list(ootb_accuracy_cv.values()), align='center', color=color)\n",
    "plt.xticks(range(len(ootb_accuracy_cv)), list(ootb_accuracy_cv.keys()))\n",
    "plt.bar_label(plt.gca().containers[0], fmt='%.2f')\n",
    "plt.title(\"Accuracy (10-F C-V)\")\n",
    "\n",
    "# bar plot cross validation f1 score\n",
    "plt.subplot(1, 4, 4)\n",
    "plt.bar(range(len(ootb_f1_cv)), list(ootb_f1_cv.values()), align='center', color=color)\n",
    "plt.xticks(range(len(ootb_f1_cv)), list(ootb_f1_cv.keys()))\n",
    "plt.bar_label(plt.gca().containers[0], fmt='%.2f')\n",
    "plt.title(\"F1 score (10-F C-V)\")\n",
    "plt.tight_layout()\n",
    "plt.show()\n",
    "\n",
    "# print table\n",
    "headers = [\"Classifier\", \"Accuracy\", \"F1 score\", \"Accuracy (10-Fold Cross-Validation)\", \"F1 score (10-Fold Cross-Validation)\"]\n",
    "data = [row for row in zip(names.values(), ootb_accuracy.values(), ootb_f1.values(), ootb_accuracy_cv.values(), ootb_f1_cv.values())]\n",
    "print(tabulate(data, headers=headers, tablefmt='rounded_grid', floatfmt=\".2f\"))"
   ]
  },
  {
   "cell_type": "markdown",
   "metadata": {},
   "source": [
    "When using just a **fit and predict** on the data we can see that for both the accuracy and the F1 score metrics, the out of the box Logistic Regression model performs the best with 0.68 and 0.73 respectively. The OOTB Dummy Classifier scores a 0.56 accuracy, same as the OOTBE K-Nearest Neighbors, while the Gaussian Naive Bayes scores somewhere in between these and the LR, with a 0.64 accuracy. On the F1 score metric, however, the GNB model has a 0.72 F1 score, same with the DC, while the KNN has the worst score again, with a 0.66.\n",
    "\n",
    "When using a **10-Fold Cross Validation** on the train data, the LR model still barely has the best accuracy with a 0.70 mark, while GNB keeps the second best with a 0.69, leaving KNN and DC behind with a 0.65 and 0.64 accuracy, respectively. On the F1 score, however, the DC model has the best score with a 0.78, followed by the GNB and LR models with a 0.77, while KNN is again last with a 0.74 F1 score.\n",
    "\n",
    "We can, therefore, say that the **Logistic Regression model performs the best** in almost every metric, followed by the Gaussian Naive Bayes model, while the K-Nearest Neighbors and the Dummy Classifier models perform the worst. A reason behind the LR model beating the GNB is that the second one assumes that the features are independent, which is most likely not the case with the features in this dataset."
   ]
  },
  {
   "cell_type": "markdown",
   "metadata": {},
   "source": [
    "### Optimization"
   ]
  },
  {
   "cell_type": "markdown",
   "metadata": {},
   "source": [
    "#### Initializations and Feature Variance"
   ]
  },
  {
   "cell_type": "code",
   "execution_count": 10,
   "metadata": {},
   "outputs": [],
   "source": [
    "# default transformers initialization\n",
    "selector = VarianceThreshold()\n",
    "standard = StandardScaler()\n",
    "min_max = MinMaxScaler()\n",
    "ros = RandomOverSampler()\n",
    "rus = RandomUnderSampler()\n",
    "pca = PCA()\n",
    "\n",
    "# dictionaries to store results\n",
    "optimized_accuracy_acc = {}\n",
    "optimized_accuracy_f1 = {}\n",
    "optimized_f1_acc = {}\n",
    "optimized_f1_f1 = {}\n",
    "train_time_acc = {}\n",
    "train_time_f1 = {}\n",
    "test_time_acc = {}\n",
    "test_time_f1 = {}"
   ]
  },
  {
   "cell_type": "code",
   "execution_count": 11,
   "metadata": {},
   "outputs": [
    {
     "name": "stdout",
     "output_type": "stream",
     "text": [
      "- Train data feature variance: \n",
      " [1.64624877e+02 3.05626153e+03 2.40905482e+03 1.31901701e+00\n",
      " 1.95841210e-01 4.38109641e-01 2.26191276e-01 2.97372702e+10\n",
      " 4.26148758e+00 6.67759503e+01 7.83600146e+06 1.17003133e+10\n",
      " 4.66437542e-01 3.09651575e+01 3.88658315e+03 8.74963408e+03\n",
      " 7.25871759e+04 2.20287249e+04 4.51130837e+01 7.72392482e-01\n",
      " 3.11107750e+00 2.39464855e+01 1.47037101e+01 1.63326985e+03\n",
      " 3.89578659e+02 9.71297112e+04 1.37920605e-01 1.37920605e-01\n",
      " 2.21247637e-01 2.21247637e-01 1.88582231e-01 1.88582231e-01\n",
      " 9.34593573e-02 9.34593573e-02 0.00000000e+00 0.00000000e+00\n",
      " 1.74971645e-01 1.74971645e-01 1.60000000e-01 1.60000000e-01\n",
      " 8.65028355e-02 8.65028355e-02 6.47258979e-02 6.47258979e-02\n",
      " 2.29413989e-01 2.29413989e-01 2.24120983e-01 2.24120983e-01\n",
      " 1.06918715e-01 1.06918715e-01 4.15879017e-02 4.15879017e-02\n",
      " 2.24120983e-01 2.24120983e-01 7.93950851e-02 7.93950851e-02\n",
      " 2.54064272e-02 2.54064272e-02 4.94517958e-02 4.94517958e-02\n",
      " 1.70132325e-01 1.70132325e-01 2.41663516e-01 2.41663516e-01\n",
      " 1.88582231e-01 1.88582231e-01 1.74971645e-01 1.74971645e-01\n",
      " 1.70132325e-01 1.70132325e-01 2.18223062e-01 2.18223062e-01]\n",
      "--------------------------------------------------------------------------------\n",
      "- Minimum, maximum, mean and median variance:\n",
      "0.0, 29737270212.38644, 575633774.7028285, 0.21822306238185252\n"
     ]
    }
   ],
   "source": [
    "# check variance to select variance threshold values\n",
    "train_variance = X_train.var(axis=0)\n",
    "print(f\"- Train data feature variance: \\n {train_variance}\")\n",
    "print(f\"--------------------------------------------------------------------------------\")\n",
    "print(f\"- Minimum, maximum, mean and median variance:\")\n",
    "print(f\"{np.min(train_variance)}, {np.max(train_variance)}, {np.mean(train_variance)}, {np.median(train_variance)}\")"
   ]
  },
  {
   "cell_type": "markdown",
   "metadata": {},
   "source": [
    "#### Dummy Classifier"
   ]
  },
  {
   "cell_type": "markdown",
   "metadata": {},
   "source": [
    "For the Dummy Classifier there is no optimization to be done. Therefore we just fit the default one on the train data and evaluate it on the test data to get the accuracy, F1 score, train and test time."
   ]
  },
  {
   "cell_type": "code",
   "execution_count": 12,
   "metadata": {},
   "outputs": [
    {
     "name": "stdout",
     "output_type": "stream",
     "text": [
      "Accuracy: 0.56\n",
      "F1 score: 0.72\n",
      "Time to fit: 0.00078 sec\n",
      "Time to predict: 0.00017 sec\n"
     ]
    }
   ],
   "source": [
    "# get fit and predict times on test data\n",
    "start = time.time()\n",
    "DC.fit(X_train, y_train)\n",
    "end = time.time()\n",
    "train_time_acc['DC'] = end - start\n",
    "train_time_f1['DC'] = end - start\n",
    "\n",
    "start = time.time()\n",
    "y_preds = DC.predict(X_test)\n",
    "end = time.time()\n",
    "test_time_acc['DC'] = end - start\n",
    "test_time_f1['DC'] = end - start\n",
    "\n",
    "# get accuracy and f1 score on test data\n",
    "optimized_accuracy_acc['DC'] = accuracy_score(y_test, y_preds)\n",
    "optimized_accuracy_f1['DC'] = accuracy_score(y_test, y_preds)\n",
    "optimized_f1_acc['DC'] = f1_score(y_test, y_preds)\n",
    "optimized_f1_f1['DC'] = f1_score(y_test, y_preds)\n",
    "\n",
    "# print accuracy and f1 score\n",
    "print(f\"Accuracy: {np.format_float_positional(optimized_accuracy_acc['DC'], 2)}\")\n",
    "print(f\"F1 score: {np.format_float_positional(optimized_f1_acc['DC'], 2)}\")\n",
    "\n",
    "# print fit and predict times\n",
    "print(f\"Time to fit: {np.format_float_positional(train_time_acc['DC'], 5)} sec\")\n",
    "print(f\"Time to predict: {np.format_float_positional(test_time_acc['DC'], 5)} sec\")"
   ]
  },
  {
   "cell_type": "markdown",
   "metadata": {},
   "source": [
    "#### Gaussian Naive Bayes"
   ]
  },
  {
   "cell_type": "code",
   "execution_count": 13,
   "metadata": {},
   "outputs": [
    {
     "name": "stdout",
     "output_type": "stream",
     "text": [
      "accuracy: 0.7652, threshold: 0.17, n_components: 16, var_smoothing: 0\n",
      "accuracy: 0.7652, threshold: 0.17, n_components: 13, var_smoothing: 1e-09\n",
      "accuracy: 0.7652, threshold: 0.17, n_components: 16, var_smoothing: 1e-09\n",
      "accuracy: 0.7652, threshold: 0.17, n_components: 13, var_smoothing: 0\n",
      "accuracy: 0.7561, threshold: 0.18, n_components: 13, var_smoothing: 0\n",
      "accuracy: 0.7561, threshold: 0.18, n_components: 13, var_smoothing: 1e-09\n",
      "accuracy: 0.7561, threshold: 0.18, n_components: 14, var_smoothing: 0\n",
      "accuracy: 0.7561, threshold: 0.18, n_components: 14, var_smoothing: 1e-09\n",
      "accuracy: 0.7553, threshold: 0.17, n_components: 14, var_smoothing: 0\n"
     ]
    }
   ],
   "source": [
    "# initialize pipeline and grid search for accuracy\n",
    "pipe_acc = Pipeline(steps=[('selector', selector), ('scaler', standard), ('sampler', ros), ('pca', pca), ('classifier', GNB)], memory='tmp')\n",
    "threshold_acc = [0.17, 0.18, 0.2, 0.21]\n",
    "n_components_acc = [10, 12, 13, 14, 16, 18]\n",
    "var_smoothing_acc = [0, 1e-9, 1]\n",
    "\n",
    "estimator_acc = GridSearchCV(pipe_acc, dict(selector__threshold=threshold_acc, pca__n_components=n_components_acc, classifier__var_smoothing=var_smoothing_acc), cv=10, scoring='accuracy', n_jobs=-1)\n",
    "estimator_acc.fit(X_train, y_train)\n",
    "\n",
    "# print top 9 results\n",
    "results = pd.DataFrame(estimator_acc.cv_results_)\n",
    "results = results.sort_values(by='mean_test_score', ascending=False)\n",
    "results = results[['mean_test_score', 'params']]\n",
    "\n",
    "for i in range(9):\n",
    "    print(f\"accuracy: {np.format_float_positional(results.iloc[i, 0], 4)}, threshold: {results.iloc[i, 1]['selector__threshold']}, n_components: {results.iloc[i, 1]['pca__n_components']}, var_smoothing: {results.iloc[i, 1]['classifier__var_smoothing']}\")"
   ]
  },
  {
   "cell_type": "code",
   "execution_count": 28,
   "metadata": {},
   "outputs": [
    {
     "name": "stdout",
     "output_type": "stream",
     "text": [
      "f1: 0.8173, threshold: 0.2, n_components: 19, var_smoothing: 1\n",
      "f1: 0.8142, threshold: 0.2, n_components: 20, var_smoothing: 1\n",
      "f1: 0.8104, threshold: 1.12, n_components: 20, var_smoothing: 1\n",
      "f1: 0.8104, threshold: 1.11, n_components: 20, var_smoothing: 1\n",
      "f1: 0.8104, threshold: 1.1, n_components: 20, var_smoothing: 1\n",
      "f1: 0.8104, threshold: 1.12, n_components: 19, var_smoothing: 1\n",
      "f1: 0.8104, threshold: 1.11, n_components: 19, var_smoothing: 1\n",
      "f1: 0.8104, threshold: 1.1, n_components: 19, var_smoothing: 1\n",
      "f1: 0.8104, threshold: 0.2, n_components: 11, var_smoothing: 1\n"
     ]
    }
   ],
   "source": [
    "# initialize pipeline and grid search for f1 score\n",
    "pipe_f1 = Pipeline(steps=[('selector', selector), ('scaler', standard), ('sampler', ros), ('pca', pca), ('classifier', GNB)], memory='tmp')\n",
    "threshold_f1 = [0.2, 1.1, 1.11, 1.12]\n",
    "n_components_f1 = [10, 11, 12, 19, 20]\n",
    "var_smoothing_f1 = [1]\n",
    "\n",
    "estimator_f1 = GridSearchCV(pipe_f1, dict(selector__threshold=threshold_f1, pca__n_components=n_components_f1, classifier__var_smoothing=var_smoothing_f1), cv=10, scoring='f1', n_jobs=-1)\n",
    "estimator_f1.fit(X_train, y_train)\n",
    "\n",
    "# print top 9 results\n",
    "results = pd.DataFrame(estimator_f1.cv_results_)\n",
    "results = results.sort_values(by='mean_test_score', ascending=False)\n",
    "results = results[['mean_test_score', 'params']]\n",
    "\n",
    "for i in range(9):\n",
    "    print(f\"f1: {np.format_float_positional(results.iloc[i, 0], 4)}, threshold: {results.iloc[i, 1]['selector__threshold']}, n_components: {results.iloc[i, 1]['pca__n_components']}, var_smoothing: {results.iloc[i, 1]['classifier__var_smoothing']}\")"
   ]
  },
  {
   "cell_type": "code",
   "execution_count": 15,
   "metadata": {},
   "outputs": [
    {
     "name": "stdout",
     "output_type": "stream",
     "text": [
      "- Gaussian Naive Bayes model selection based on Accuracy\n",
      "Best estimator: [('selector', VarianceThreshold(threshold=0.17)), ('scaler', StandardScaler()), ('sampler', RandomOverSampler()), ('pca', PCA(n_components=13)), ('classifier', GaussianNB(var_smoothing=0))]\n",
      "Accuracy (10-Fold Cross-Validation): 0.77\n",
      "Accuracy: 0.72\n",
      "F1 score: 0.78\n",
      "Time to fit: 0.04159 sec\n",
      "Time to predict: 0.00405 sec\n",
      "--------------------------------------------------------------------------------\n",
      "- Gaussian Naive Bayes model selection based on F1 score\n",
      "Best estimator: [('selector', VarianceThreshold(threshold=0.2)), ('scaler', StandardScaler()), ('sampler', RandomOverSampler()), ('pca', PCA(n_components=19)), ('classifier', GaussianNB(var_smoothing=1))]\n",
      "F1 score (10-Fold Cross-Validation): 0.82\n",
      "Accuracy: 0.62\n",
      "F1 score: 0.74\n",
      "Time to fit: 0.02528 sec\n",
      "Time to predict: 0.00543 sec\n"
     ]
    }
   ],
   "source": [
    "zipped = zip([\"Accuracy\", \"F1 score\"],\n",
    "             [estimator_acc, estimator_f1],\n",
    "             [train_time_acc, train_time_f1],\n",
    "             [test_time_acc, test_time_f1],\n",
    "             [optimized_accuracy_acc, optimized_accuracy_f1],\n",
    "             [optimized_f1_acc, optimized_f1_f1])\n",
    "\n",
    "for scoring, estimator, train_time, test_time, optimized_accuracy, optimized_f1 in zipped:\n",
    "    # get fit and predict times on test data\n",
    "    start = time.time()\n",
    "    estimator.best_estimator_.fit(X_train, y_train)\n",
    "    end = time.time()\n",
    "    train_time['GNB'] = end - start\n",
    "\n",
    "    start = time.time()\n",
    "    y_preds = estimator.best_estimator_.predict(X_test)\n",
    "    end = time.time()\n",
    "    test_time['GNB'] = end - start\n",
    "    \n",
    "    # get accuracy and f1 score on test data\n",
    "    optimized_accuracy['GNB'] = accuracy_score(y_test, y_preds)\n",
    "    optimized_f1['GNB'] = f1_score(y_test, y_preds)\n",
    "\n",
    "    # print best estimator\n",
    "    print(f\"- Gaussian Naive Bayes model selection based on {scoring}\")\n",
    "    print(f\"Best estimator: {estimator.best_estimator_.steps}\")\n",
    "    print(f\"{scoring} (10-Fold Cross-Validation): {np.format_float_positional(estimator.best_score_, 2)}\")\n",
    "\n",
    "    # print accuracy and f1 score\n",
    "    print(f\"Accuracy: {np.format_float_positional(optimized_accuracy['GNB'], 2)}\")\n",
    "    print(f\"F1 score: {np.format_float_positional(optimized_f1['GNB'], 2)}\")\n",
    "\n",
    "    # print fit and predict times\n",
    "    print(f\"Time to fit: {np.format_float_positional(train_time['GNB'], 5)} sec\")\n",
    "    print(f\"Time to predict: {np.format_float_positional(test_time['GNB'], 5)} sec\")\n",
    "\n",
    "    if estimator != estimator_f1:\n",
    "        print(f\"--------------------------------------------------------------------------------\")\n",
    "\n",
    "# after finding out that its the worst estimator based on accuracy we keep it for the confusion matrix\n",
    "worst_estimator = estimator_f1.best_estimator_"
   ]
  },
  {
   "cell_type": "markdown",
   "metadata": {},
   "source": [
    "#### K-Nearest Neighbors"
   ]
  },
  {
   "cell_type": "code",
   "execution_count": 16,
   "metadata": {},
   "outputs": [
    {
     "name": "stdout",
     "output_type": "stream",
     "text": [
      "accuracy: 0.7500, threshold: 0.42, n_components: 5, n_neighbors: 63, weights: distance, metric: minkowski\n",
      "accuracy: 0.7500, threshold: 0.43, n_components: 5, n_neighbors: 63, weights: distance, metric: minkowski\n",
      "accuracy: 0.7500, threshold: 0.42, n_components: 5, n_neighbors: 63, weights: distance, metric: euclidean\n",
      "accuracy: 0.7500, threshold: 0.43, n_components: 5, n_neighbors: 63, weights: distance, metric: euclidean\n",
      "accuracy: 0.75, threshold: 0.42, n_components: 5, n_neighbors: 60, weights: distance, metric: minkowski\n",
      "accuracy: 0.75, threshold: 0.43, n_components: 5, n_neighbors: 60, weights: distance, metric: minkowski\n",
      "accuracy: 0.75, threshold: 0.42, n_components: 5, n_neighbors: 60, weights: distance, metric: euclidean\n",
      "accuracy: 0.75, threshold: 0.43, n_components: 5, n_neighbors: 60, weights: distance, metric: euclidean\n",
      "accuracy: 0.7235, threshold: 0.44, n_components: 5, n_neighbors: 60, weights: distance, metric: minkowski\n"
     ]
    }
   ],
   "source": [
    "# initialize pipeline and grid search for accuracy\n",
    "pipe_acc = Pipeline(steps=[('selector', selector), ('scaler', standard), ('sampler', ros), ('pca', pca), ('classifier', KNN)], memory='tmp')\n",
    "threshold_acc = [0.42, 0.43, 0.44]\n",
    "n_components_acc = [5]\n",
    "n_neighbors_acc = [60, 63]\n",
    "weights_acc = ['distance']\n",
    "metric_acc = ['minkowski', 'euclidean']\n",
    "\n",
    "estimator_acc = GridSearchCV(pipe_acc, dict(selector__threshold=threshold_acc, pca__n_components=n_components_acc, classifier__n_neighbors=n_neighbors_acc, classifier__weights=weights_acc, classifier__metric=metric_acc), cv=10, scoring='accuracy', n_jobs=-1)\n",
    "estimator_acc.fit(X_train, y_train)\n",
    "\n",
    "# print top 9 results\n",
    "results = pd.DataFrame(estimator_acc.cv_results_)\n",
    "results = results.sort_values(by='mean_test_score', ascending=False)\n",
    "results = results[['mean_test_score', 'params']]\n",
    "\n",
    "for i in range(9):\n",
    "    print(f\"accuracy: {np.format_float_positional(results.iloc[i, 0], 4)}, threshold: {results.iloc[i, 1]['selector__threshold']}, n_components: {results.iloc[i, 1]['pca__n_components']}, n_neighbors: {results.iloc[i, 1]['classifier__n_neighbors']}, weights: {results.iloc[i, 1]['classifier__weights']}, metric: {results.iloc[i, 1]['classifier__metric']}\")"
   ]
  },
  {
   "cell_type": "code",
   "execution_count": 29,
   "metadata": {},
   "outputs": [
    {
     "name": "stdout",
     "output_type": "stream",
     "text": [
      "f1: 0.8176, threshold: 0.58, n_components: 5, n_neighbors: 68, weights: distance, metric: minkowski\n",
      "f1: 0.8176, threshold: 0.59, n_components: 5, n_neighbors: 68, weights: distance, metric: minkowski\n",
      "f1: 0.8176, threshold: 0.6, n_components: 5, n_neighbors: 70, weights: distance, metric: euclidean\n",
      "f1: 0.8176, threshold: 0.59, n_components: 5, n_neighbors: 70, weights: distance, metric: euclidean\n",
      "f1: 0.8176, threshold: 0.58, n_components: 5, n_neighbors: 70, weights: distance, metric: euclidean\n",
      "f1: 0.8176, threshold: 0.61, n_components: 5, n_neighbors: 69, weights: distance, metric: euclidean\n",
      "f1: 0.8176, threshold: 0.6, n_components: 5, n_neighbors: 69, weights: distance, metric: euclidean\n",
      "f1: 0.8176, threshold: 0.59, n_components: 5, n_neighbors: 69, weights: distance, metric: euclidean\n",
      "f1: 0.8176, threshold: 0.58, n_components: 5, n_neighbors: 69, weights: distance, metric: euclidean\n"
     ]
    }
   ],
   "source": [
    "# initialize pipeline and grid search for f1 score\n",
    "pipe_f1 = Pipeline(steps=[('selector', selector), ('scaler', standard), ('sampler', ros), ('pca', pca), ('classifier', KNN)], memory='tmp')\n",
    "threshold_f1 = [0.58, 0.59, 0.6, 0.61]\n",
    "n_components_f1 = [5]\n",
    "n_neighbors_f1 = [68, 69, 70]\n",
    "weights_f1 = ['distance']\n",
    "metric_f1 = ['minkowski', 'euclidean']\n",
    "\n",
    "estimator_f1 = GridSearchCV(pipe_f1, dict(selector__threshold=threshold_f1, pca__n_components=n_components_f1, classifier__n_neighbors=n_neighbors_f1, classifier__weights=weights_f1, classifier__metric=metric_f1), cv=10, scoring='f1', n_jobs=-1)\n",
    "estimator_f1.fit(X_train, y_train)\n",
    "\n",
    "# print top 9 results\n",
    "results = pd.DataFrame(estimator_f1.cv_results_)\n",
    "results = results.sort_values(by='mean_test_score', ascending=False)\n",
    "results = results[['mean_test_score', 'params']]\n",
    "\n",
    "for i in range(9):\n",
    "    print(f\"f1: {np.format_float_positional(results.iloc[i, 0], 4)}, threshold: {results.iloc[i, 1]['selector__threshold']}, n_components: {results.iloc[i, 1]['pca__n_components']}, n_neighbors: {results.iloc[i, 1]['classifier__n_neighbors']}, weights: {results.iloc[i, 1]['classifier__weights']}, metric: {results.iloc[i, 1]['classifier__metric']}\")"
   ]
  },
  {
   "cell_type": "code",
   "execution_count": 18,
   "metadata": {},
   "outputs": [
    {
     "name": "stdout",
     "output_type": "stream",
     "text": [
      "- K-Nearest Neighbors model selection based on Accuracy\n",
      "Best estimator: [('selector', VarianceThreshold(threshold=0.42)), ('scaler', StandardScaler()), ('sampler', RandomOverSampler()), ('pca', PCA(n_components=5)), ('classifier', KNeighborsClassifier(n_neighbors=63, weights='distance'))]\n",
      "Accuracy (10-Fold Cross-Validation): 0.75\n",
      "Accuracy: 0.68\n",
      "F1 score: 0.71\n",
      "Time to fit: 0.01507 sec\n",
      "Time to predict: 0.00373 sec\n",
      "--------------------------------------------------------------------------------\n",
      "- K-Nearest Neighbors model selection based on F1 score\n",
      "Best estimator: [('selector', VarianceThreshold(threshold=0.58)), ('scaler', StandardScaler()), ('sampler', RandomOverSampler()), ('pca', PCA(n_components=5)), ('classifier', KNeighborsClassifier(n_neighbors=68, weights='distance'))]\n",
      "F1 score (10-Fold Cross-Validation): 0.82\n",
      "Accuracy: 0.7\n",
      "F1 score: 0.75\n",
      "Time to fit: 0.01446 sec\n",
      "Time to predict: 0.00328 sec\n"
     ]
    }
   ],
   "source": [
    "zipped = zip([\"Accuracy\", \"F1 score\"],\n",
    "             [estimator_acc, estimator_f1],\n",
    "             [train_time_acc, train_time_f1],\n",
    "             [test_time_acc, test_time_f1],\n",
    "             [optimized_accuracy_acc, optimized_accuracy_f1],\n",
    "             [optimized_f1_acc, optimized_f1_f1])\n",
    "\n",
    "for scoring, estimator, train_time, test_time, optimized_accuracy, optimized_f1 in zipped:\n",
    "    # get fit and predict times on test data\n",
    "    start = time.time()\n",
    "    estimator.best_estimator_.fit(X_train, y_train)\n",
    "    end = time.time()\n",
    "    train_time['KNN'] = end - start\n",
    "\n",
    "    start = time.time()\n",
    "    y_preds = estimator.best_estimator_.predict(X_test)\n",
    "    end = time.time()\n",
    "    test_time['KNN'] = end - start\n",
    "    \n",
    "    # get accuracy and f1 score on test data\n",
    "    optimized_accuracy['KNN'] = accuracy_score(y_test, y_preds)\n",
    "    optimized_f1['KNN'] = f1_score(y_test, y_preds)\n",
    "\n",
    "    # print best estimator\n",
    "    print(f\"- K-Nearest Neighbors model selection based on {scoring}\")\n",
    "    print(f\"Best estimator: {estimator.best_estimator_.steps}\")\n",
    "    print(f\"{scoring} (10-Fold Cross-Validation): {np.format_float_positional(estimator.best_score_, 2)}\") \n",
    "\n",
    "    # print accuracy and f1 score\n",
    "    print(f\"Accuracy: {np.format_float_positional(optimized_accuracy['KNN'], 2)}\")\n",
    "    print(f\"F1 score: {np.format_float_positional(optimized_f1['KNN'], 2)}\")\n",
    "\n",
    "    # print fit and predict times\n",
    "    print(f\"Time to fit: {np.format_float_positional(train_time['KNN'], 5)} sec\")\n",
    "    print(f\"Time to predict: {np.format_float_positional(test_time['KNN'], 5)} sec\")\n",
    "\n",
    "    if estimator != estimator_f1:\n",
    "        print(f\"--------------------------------------------------------------------------------\")"
   ]
  },
  {
   "cell_type": "markdown",
   "metadata": {},
   "source": [
    "#### Logistic Regression"
   ]
  },
  {
   "cell_type": "code",
   "execution_count": 19,
   "metadata": {},
   "outputs": [
    {
     "name": "stdout",
     "output_type": "stream",
     "text": [
      "accuracy: 0.7212, threshold: 0.55, n_components: 11, penalty: l1, solver: liblinear, max_iter: 150\n",
      "accuracy: 0.7212, threshold: 0.5, n_components: 11, penalty: l1, solver: liblinear, max_iter: 100\n",
      "accuracy: 0.7212, threshold: 0.55, n_components: 11, penalty: l1, solver: liblinear, max_iter: 100\n",
      "accuracy: 0.7212, threshold: 0.6, n_components: 11, penalty: l1, solver: liblinear, max_iter: 100\n",
      "accuracy: 0.7212, threshold: 0.6, n_components: 11, penalty: l1, solver: liblinear, max_iter: 200\n",
      "accuracy: 0.7212, threshold: 0.55, n_components: 11, penalty: l1, solver: liblinear, max_iter: 200\n",
      "accuracy: 0.7212, threshold: 0.5, n_components: 11, penalty: l1, solver: liblinear, max_iter: 200\n",
      "accuracy: 0.7212, threshold: 0.6, n_components: 11, penalty: l1, solver: liblinear, max_iter: 300\n",
      "accuracy: 0.7212, threshold: 0.55, n_components: 11, penalty: l1, solver: liblinear, max_iter: 300\n"
     ]
    }
   ],
   "source": [
    "# initialize pipeline and grid search for accuracy\n",
    "pipe_acc = Pipeline(steps=[('selector', selector), ('scaler', standard), ('sampler', ros), ('pca', pca), ('classifier', LR)], memory='tmp')\n",
    "threshold_acc = [0.5, 0.55, 0.6]\n",
    "n_components_acc = [10, 11, 12]\n",
    "penalty_acc = ['l1']\n",
    "solver_acc = ['liblinear']\n",
    "max_iter_acc = [100, 150, 200, 300]\n",
    "\n",
    "estimator_acc = GridSearchCV(pipe_acc, dict(selector__threshold=threshold_acc, pca__n_components=n_components_acc, classifier__penalty=penalty_acc, classifier__solver=solver_acc, classifier__max_iter=max_iter_acc), cv=10, scoring='accuracy', n_jobs=-1)\n",
    "estimator_acc.fit(X_train, y_train)\n",
    "\n",
    "# print top 9 results\n",
    "results = pd.DataFrame(estimator_acc.cv_results_)\n",
    "results = results.sort_values(by='mean_test_score', ascending=False)\n",
    "results = results[['mean_test_score', 'params']]\n",
    "\n",
    "for i in range(9):\n",
    "    print(f\"accuracy: {np.format_float_positional(results.iloc[i, 0], 4)}, threshold: {results.iloc[i, 1]['selector__threshold']}, n_components: {results.iloc[i, 1]['pca__n_components']}, penalty: {results.iloc[i, 1]['classifier__penalty']}, solver: {results.iloc[i, 1]['classifier__solver']}, max_iter: {results.iloc[i, 1]['classifier__max_iter']}\")"
   ]
  },
  {
   "cell_type": "code",
   "execution_count": 30,
   "metadata": {},
   "outputs": [
    {
     "name": "stdout",
     "output_type": "stream",
     "text": [
      "f1: 0.7666, threshold: 0.55, n_components: 11, penalty: l1, solver: liblinear, max_iter: 150\n",
      "f1: 0.7666, threshold: 0.6, n_components: 11, penalty: l1, solver: liblinear, max_iter: 300\n",
      "f1: 0.7666, threshold: 0.5, n_components: 11, penalty: l1, solver: liblinear, max_iter: 100\n",
      "f1: 0.7666, threshold: 0.55, n_components: 11, penalty: l1, solver: liblinear, max_iter: 100\n",
      "f1: 0.7666, threshold: 0.6, n_components: 11, penalty: l1, solver: liblinear, max_iter: 100\n",
      "f1: 0.7666, threshold: 0.55, n_components: 11, penalty: l1, solver: liblinear, max_iter: 300\n",
      "f1: 0.7666, threshold: 0.5, n_components: 11, penalty: l1, solver: liblinear, max_iter: 300\n",
      "f1: 0.7666, threshold: 0.5, n_components: 11, penalty: l1, solver: liblinear, max_iter: 200\n",
      "f1: 0.7666, threshold: 0.55, n_components: 11, penalty: l1, solver: liblinear, max_iter: 200\n"
     ]
    }
   ],
   "source": [
    "# initialize pipeline and grid search for f1 score\n",
    "pipe_f1 = Pipeline(steps=[('selector', selector), ('scaler', standard), ('sampler', ros), ('pca', pca), ('classifier', LR)], memory='tmp')\n",
    "threshold_f1 = [0.5, 0.55, 0.6]\n",
    "n_components_f1 = [10, 11, 12]\n",
    "penalty_f1 = ['l1']\n",
    "solver_f1 = ['liblinear']\n",
    "max_iter_f1 = [100, 150, 200, 300]\n",
    "\n",
    "estimator_f1 = GridSearchCV(pipe_f1, dict(selector__threshold=threshold_f1, pca__n_components=n_components_f1, classifier__penalty=penalty_f1, classifier__solver=solver_f1, classifier__max_iter=max_iter_f1), cv=10, scoring='f1', n_jobs=-1)\n",
    "estimator_f1.fit(X_train, y_train)\n",
    "\n",
    "# print top 9 results\n",
    "results = pd.DataFrame(estimator_f1.cv_results_)\n",
    "results = results.sort_values(by='mean_test_score', ascending=False)\n",
    "results = results[['mean_test_score', 'params']]\n",
    "\n",
    "for i in range(9):\n",
    "    print(f\"f1: {np.format_float_positional(results.iloc[i, 0], 4)}, threshold: {results.iloc[i, 1]['selector__threshold']}, n_components: {results.iloc[i, 1]['pca__n_components']}, penalty: {results.iloc[i, 1]['classifier__penalty']}, solver: {results.iloc[i, 1]['classifier__solver']}, max_iter: {results.iloc[i, 1]['classifier__max_iter']}\")"
   ]
  },
  {
   "cell_type": "code",
   "execution_count": 21,
   "metadata": {},
   "outputs": [
    {
     "name": "stdout",
     "output_type": "stream",
     "text": [
      "- Logistic Regression model selection based on Accuracy\n",
      "Best estimator: [('selector', VarianceThreshold(threshold=0.5)), ('scaler', StandardScaler()), ('sampler', RandomOverSampler()), ('pca', PCA(n_components=11)), ('classifier', LogisticRegression(penalty='l1', solver='liblinear'))]\n",
      "Accuracy (10-Fold Cross-Validation): 0.72\n",
      "Accuracy: 0.72\n",
      "F1 score: 0.75\n",
      "Time to fit: 0.01868 sec\n",
      "Time to predict: 0.00102 sec\n",
      "--------------------------------------------------------------------------------\n",
      "- Logistic Regression model selection based on F1 score\n",
      "Best estimator: [('selector', VarianceThreshold(threshold=0.5)), ('scaler', StandardScaler()), ('sampler', RandomOverSampler()), ('pca', PCA(n_components=11)), ('classifier', LogisticRegression(penalty='l1', solver='liblinear'))]\n",
      "F1 score (10-Fold Cross-Validation): 0.77\n",
      "Accuracy: 0.72\n",
      "F1 score: 0.75\n",
      "Time to fit: 0.01625 sec\n",
      "Time to predict: 0.00091 sec\n"
     ]
    }
   ],
   "source": [
    "zipped = zip([\"Accuracy\", \"F1 score\"],\n",
    "             [estimator_acc, estimator_f1],\n",
    "             [train_time_acc, train_time_f1],\n",
    "             [test_time_acc, test_time_f1],\n",
    "             [optimized_accuracy_acc, optimized_accuracy_f1],\n",
    "             [optimized_f1_acc, optimized_f1_f1])\n",
    "             \n",
    "for scoring, estimator, train_time, test_time, optimized_accuracy, optimized_f1 in [(\"Accuracy\", estimator_acc, train_time_acc, test_time_acc, optimized_accuracy_acc, optimized_f1_acc), (\"F1 score\", estimator_f1, train_time_f1, test_time_f1, optimized_accuracy_f1, optimized_f1_f1)]:\n",
    "    # get fit and predict times on test data\n",
    "    start = time.time()\n",
    "    estimator.best_estimator_.fit(X_train, y_train)\n",
    "    end = time.time()\n",
    "    train_time['LR'] = end - start\n",
    "\n",
    "    start = time.time()\n",
    "    y_preds = estimator.best_estimator_.predict(X_test)\n",
    "    end = time.time()\n",
    "    test_time['LR'] = end - start\n",
    "    \n",
    "    # get accuracy and f1 score on test data\n",
    "    optimized_accuracy['LR'] = accuracy_score(y_test, y_preds)\n",
    "    optimized_f1['LR'] = f1_score(y_test, y_preds)\n",
    "\n",
    "    # print best estimator\n",
    "    print(f\"- Logistic Regression model selection based on {scoring}\")\n",
    "    print(f\"Best estimator: {estimator.best_estimator_.steps}\")\n",
    "    print(f\"{scoring} (10-Fold Cross-Validation): {np.format_float_positional(estimator.best_score_, 2)}\") \n",
    "\n",
    "    # print accuracy and f1 score\n",
    "    print(f\"Accuracy: {np.format_float_positional(optimized_accuracy['LR'], 2)}\")\n",
    "    print(f\"F1 score: {np.format_float_positional(optimized_f1['LR'], 2)}\")\n",
    "\n",
    "    # print fit and predict times\n",
    "    print(f\"Time to fit: {np.format_float_positional(train_time['LR'], 5)} sec\")\n",
    "    print(f\"Time to predict: {np.format_float_positional(test_time['LR'], 5)} sec\")\n",
    "\n",
    "    if estimator != estimator_f1:\n",
    "        print(f\"--------------------------------------------------------------------------------\")\n",
    "\n",
    "# after finding out that its the best estimator based on accuracy we store it for the confusion matrix\n",
    "best_estimator = estimator_acc.best_estimator_"
   ]
  },
  {
   "cell_type": "markdown",
   "metadata": {},
   "source": [
    "## Results and Conclusion"
   ]
  },
  {
   "cell_type": "markdown",
   "metadata": {},
   "source": [
    "### Tables"
   ]
  },
  {
   "cell_type": "code",
   "execution_count": 22,
   "metadata": {},
   "outputs": [
    {
     "name": "stdout",
     "output_type": "stream",
     "text": [
      "╭───────────────────────────────┬────────────┬────────────┬──────────────────────────────────────┬──────────────────────────────────────┬────────────────────┬───────────────────╮\n",
      "│ Best Classifier by Accuracy   │   Accuracy │   F1 score │   Optimized vs OOTB for Accuracy (%) │   Optimized vs OOTB for F1 score (%) │   Train time (sec) │   Test time (sec) │\n",
      "├───────────────────────────────┼────────────┼────────────┼──────────────────────────────────────┼──────────────────────────────────────┼────────────────────┼───────────────────┤\n",
      "│ Dummy Classifier              │       0.56 │       0.72 │                                 0.00 │                                 0.00 │            0.00078 │           0.00017 │\n",
      "├───────────────────────────────┼────────────┼────────────┼──────────────────────────────────────┼──────────────────────────────────────┼────────────────────┼───────────────────┤\n",
      "│ Gaussian Naive Bayes          │       0.72 │       0.78 │                                12.50 │                                 8.70 │            0.04159 │           0.00405 │\n",
      "├───────────────────────────────┼────────────┼────────────┼──────────────────────────────────────┼──────────────────────────────────────┼────────────────────┼───────────────────┤\n",
      "│ K-Nearest Neighbors           │       0.68 │       0.71 │                                21.43 │                                 8.84 │            0.01507 │           0.00373 │\n",
      "├───────────────────────────────┼────────────┼────────────┼──────────────────────────────────────┼──────────────────────────────────────┼────────────────────┼───────────────────┤\n",
      "│ Logistic Regression           │       0.72 │       0.75 │                                 5.88 │                                 2.27 │            0.01868 │           0.00102 │\n",
      "╰───────────────────────────────┴────────────┴────────────┴──────────────────────────────────────┴──────────────────────────────────────┴────────────────────┴───────────────────╯\n"
     ]
    }
   ],
   "source": [
    "# dictionaries to hold the percentage differences between the optimized and default models\n",
    "diff_acc_acc = {}\n",
    "diff_f1_acc = {}\n",
    "\n",
    "for model in optimized_accuracy_acc:\n",
    "    diff_acc_acc[model] = (optimized_accuracy_acc[model] - ootb_accuracy[model]) / ootb_accuracy[model] * 100\n",
    "    diff_f1_acc[model] = (optimized_f1_acc[model] - ootb_f1[model]) / ootb_f1[model] * 100\n",
    "\n",
    "# print the table\n",
    "headers_acc = [\"Best Classifier by Accuracy\", \"Accuracy\", \"F1 score\", \"Optimized vs OOTB for Accuracy (%)\", \"Optimized vs OOTB for F1 score (%)\", \"Train time (sec)\", \"Test time (sec)\"]\n",
    "data_acc = [row for row in zip(names.values(), optimized_accuracy_acc.values(), optimized_f1_acc.values(), diff_acc_acc.values(), diff_f1_acc.values(), train_time_acc.values(), test_time_acc.values())]\n",
    "print(tabulate(data_acc, headers=headers_acc, tablefmt='rounded_grid', floatfmt=(\"\", \".2f\", \".2f\", \".2f\", \".2f\", \".5f\", \".5f\")))"
   ]
  },
  {
   "cell_type": "markdown",
   "metadata": {},
   "source": [
    "On these classifiers selected based on accuracy, we can see that the Logistic Regression and Gaussian Naive Bayes models have the best accuracy, that is 0.72, while on the F1 score, the Gaussian Naive Bayes model is better with 0.78 versus 0.75 for the Logistic Regression one. The K-Nearest Neighbors model has the worst accuracy and F1 score of the 3 optimized models, with 0.67 and 0.71 respectively, being overall better than the Dummy Classifier though, with 0.56 accuracy and 0.72 F1 score. \n",
    "\n",
    "However, the KNN model is the one showing the highest increase both in accuracy and in F1 score through the optimization process, with a 21.43% and 8.84% increase, respectively. The LR model showed limited increase in both accuracy and F1 score, while the GNB model's increase was somewhere between the others'.\n",
    "\n",
    "For train times, the KNN model is the one taking the most time to train, with 0.02 seconds, while the GNB model is the fastest, with 0.015 seconds, if we don't take the DC's 0.001 seconds into account.\n",
    "\n",
    "For test times, the KNN model is again the one taking the most time to predict the test data, with 0.003 seconds, while the LR model is the fastest, with 0.0009 seconds, if we don't take the DC's 0.0003 seconds into account."
   ]
  },
  {
   "cell_type": "code",
   "execution_count": 23,
   "metadata": {},
   "outputs": [
    {
     "name": "stdout",
     "output_type": "stream",
     "text": [
      "╭───────────────────────────────┬────────────┬────────────┬──────────────────────────────────────┬──────────────────────────────────────┬────────────────────┬───────────────────╮\n",
      "│ Best Classifier by F1 score   │   Accuracy │   F1 score │   Optimized vs OOTB for Accuracy (%) │   Optimized vs OOTB for F1 score (%) │   Train time (sec) │   Test time (sec) │\n",
      "├───────────────────────────────┼────────────┼────────────┼──────────────────────────────────────┼──────────────────────────────────────┼────────────────────┼───────────────────┤\n",
      "│ Dummy Classifier              │       0.56 │       0.72 │                                 0.00 │                                 0.00 │            0.00078 │           0.00017 │\n",
      "├───────────────────────────────┼────────────┼────────────┼──────────────────────────────────────┼──────────────────────────────────────┼────────────────────┼───────────────────┤\n",
      "│ Gaussian Naive Bayes          │       0.62 │       0.74 │                                -3.13 │                                 2.92 │            0.02528 │           0.00543 │\n",
      "├───────────────────────────────┼────────────┼────────────┼──────────────────────────────────────┼──────────────────────────────────────┼────────────────────┼───────────────────┤\n",
      "│ K-Nearest Neighbors           │       0.70 │       0.75 │                                25.00 │                                13.64 │            0.01446 │           0.00328 │\n",
      "├───────────────────────────────┼────────────┼────────────┼──────────────────────────────────────┼──────────────────────────────────────┼────────────────────┼───────────────────┤\n",
      "│ Logistic Regression           │       0.72 │       0.75 │                                 5.88 │                                 2.27 │            0.01625 │           0.00091 │\n",
      "╰───────────────────────────────┴────────────┴────────────┴──────────────────────────────────────┴──────────────────────────────────────┴────────────────────┴───────────────────╯\n"
     ]
    }
   ],
   "source": [
    "# dictionaries to hold the percentage differences between the optimized and default models\n",
    "diff_acc_f1 = {}\n",
    "diff_f1_f1 = {}\n",
    "\n",
    "for model in optimized_accuracy_f1:\n",
    "    diff_acc_f1[model] = (optimized_accuracy_f1[model] - ootb_accuracy[model]) / ootb_accuracy[model] * 100\n",
    "    diff_f1_f1[model] = (optimized_f1_f1[model] - ootb_f1[model]) / ootb_f1[model] * 100\n",
    "\n",
    "# print the table\n",
    "headers_f1= [\"Best Classifier by F1 score\", \"Accuracy\", \"F1 score\", \"Optimized vs OOTB for Accuracy (%)\", \"Optimized vs OOTB for F1 score (%)\", \"Train time (sec)\", \"Test time (sec)\"]\n",
    "data_f1 = [row for row in zip(names.values(), optimized_accuracy_f1.values(), optimized_f1_f1.values(), diff_acc_f1.values(), diff_f1_f1.values(), train_time_f1.values(), test_time_f1.values())]\n",
    "print(tabulate(data_f1, headers=headers_f1, tablefmt='rounded_grid', floatfmt=(\"\", \".2f\", \".2f\", \".2f\", \".2f\", \".5f\", \".5f\")))"
   ]
  },
  {
   "cell_type": "markdown",
   "metadata": {},
   "source": [
    "On these classifiers selected based on F1 score, we can see that the Logistic Regression has the best accuracy equal to 0.72, while on the F1 score, the LR model is tied with the KNN one at 0.75. The GNB model has the worst accuracy and F1 score of the 3 optimized models, with 0.62 and 0.74 respectively, being overall better than the Dummy Classifier though, with 0.56 accuracy and 0.72 F1 score. \n",
    "\n",
    "However, the KNN model is again the one showing the highest increase both in accuracy and in F1 score through the optimization process, with a 25% and 13.64% increase, respectively. The GNB model showed a decrease in accuracy, with a limited increase in F1 score, while the LR model's increase was also limited in both metrics.\n",
    "\n",
    "For train times, the KNN model is again the one taking the most time to train, with 0.017 seconds, while the LR model is the fastest, with 0.016 seconds, if we don't take the DC's 0.001 seconds into account.\n",
    "\n",
    "For test times, the KNN model is again the one taking the most time to predict the test data, with 0.0036 seconds, while the LR model is the fastest, with 0.0008 seconds, if we don't take the DC's 0.0003 seconds into account."
   ]
  },
  {
   "cell_type": "markdown",
   "metadata": {},
   "source": [
    "### Bar Charts"
   ]
  },
  {
   "cell_type": "code",
   "execution_count": 24,
   "metadata": {},
   "outputs": [
    {
     "data": {
      "image/png": "[encoded data removed]",
      "text/plain": [
       "<Figure size 1200x1200 with 4 Axes>"
      ]
     },
     "metadata": {},
     "output_type": "display_data"
    }
   ],
   "source": [
    "# plot bar charts for the changes in accuracy and f1 score based on accuracy and f1 score\n",
    "zipped = zip([(0, 0), (0, 1), (1, 0), (1, 1)], \n",
    "             [ootb_accuracy, ootb_f1, ootb_accuracy, ootb_f1],\n",
    "             [optimized_accuracy_acc, optimized_f1_acc, optimized_accuracy_f1, optimized_f1_f1],\n",
    "             [\"Accuracy\", \"F1 score\", \"Accuracy\", \"F1 score\"],\n",
    "             [\"Accuracy\", \"Accuracy\", \"F1 score\", \"F1 score\"])\n",
    "             \n",
    "fig, ax = plt.subplots(2, 2, figsize=(12, 12))\n",
    "x = np.arange(len(names))\n",
    "width = 0.35\n",
    "\n",
    "for index, ootb, optimized, scoring, base in zipped:\n",
    "    rects1 = ax[index].bar(x - width/2, ootb.values(), width, label='OOTB')\n",
    "    rects2 = ax[index].bar(x + width/2, optimized.values(), width, label='optimized')\n",
    "    ax[index].set_ylabel(scoring)\n",
    "    ax[index].set_xlabel(\"Classifier\")\n",
    "    ax[index].set_title(f\"{scoring} change between OOTB and \\n optimized models based on {base}\")\n",
    "    ax[index].set_xticks(x, names.keys())\n",
    "    ax[index].legend(bbox_to_anchor=(1, 1))\n",
    "    ax[index].bar_label(rects1, padding=2, fmt='%.2f')\n",
    "    ax[index].bar_label(rects2, padding=2, fmt='%.2f')\n",
    "\n",
    "fig.tight_layout()\n",
    "plt.show()"
   ]
  },
  {
   "cell_type": "markdown",
   "metadata": {},
   "source": [
    "On this plot, we can see the previous information about accuracy and F1 score of the best classifiers. Except for the Dummy Classifier where there was no optimization and the values have stayed the same for both OOTB and optimized models, the rest show an increase in most metrics. An outlier is the GNB model selected based on F1 score, where the accuracy has decreased, while the F1 score has increased. We can also see that the KNN model is the one that is showing the highest increases both in accuracy and in F1 score."
   ]
  },
  {
   "cell_type": "markdown",
   "metadata": {},
   "source": [
    "### Confusion Matrices"
   ]
  },
  {
   "cell_type": "code",
   "execution_count": 31,
   "metadata": {},
   "outputs": [
    {
     "data": {
      "image/png": "[encoded data removed]",
      "text/plain": [
       "<Figure size 1000x500 with 4 Axes>"
      ]
     },
     "metadata": {},
     "output_type": "display_data"
    }
   ],
   "source": [
    "# print the confusion matrix for the best and worst model based on acurracy\n",
    "zipped = zip([0, 1],\n",
    "             [best_estimator, worst_estimator],\n",
    "             ['best', 'worst'],\n",
    "             ['LR', 'GNB'])\n",
    "\n",
    "fig, ax = plt.subplots(1, 2, figsize=(10, 5))\n",
    "\n",
    "for index, estimator, kind, classifier in zipped:\n",
    "    y_pred = estimator.predict(X_test)\n",
    "    cf_matrix = confusion_matrix(y_test, y_pred)\n",
    "\n",
    "    group_names = [\"True Neg\", \"False Pos\", \"False Neg\", \"True Pos\"]\n",
    "    group_counts = [\"{0:0.0f}\".format(value) for value in cf_matrix.flatten()]\n",
    "    group_percentages = [\"{0:.2%}\".format(value) for value in cf_matrix.flatten()/np.sum(cf_matrix)]\n",
    "    labels = np.asarray([f\"{v1}\\n{v2}\\n{v3}\" for v1, v2, v3 in zip(group_names, group_counts, group_percentages)]).reshape(cf_matrix.shape[0],cf_matrix.shape[1])\n",
    "    sns.heatmap(cf_matrix, annot=labels, fmt=\"\", ax=ax[index], cmap='Blues')\n",
    "    ax[index].set_title(f\"Confusion matrix for the {kind} estimator, \\n {names[classifier]} based on Accuracy\")\n",
    "\n",
    "fig.tight_layout()\n",
    "plt.show()"
   ]
  },
  {
   "cell_type": "markdown",
   "metadata": {},
   "source": [
    "As we can see on the confusion matrices, the best estimator according to the accuracy metric, the Logistic Regression model, has a good percentage of True Negative and True Positive classifications, while there is a balance of False Negatives and False Positives. However, it should be noted that False Positives are not ideal in this dataset, since that means that patients that did not live, were labeled as living. Therefore, False Positives should be kept to a minimum.\n",
    "\n",
    "For the worst estimator, the Gaussian Naive Bayes, we can see that there is a really high percentage of False Positives. Therefore, the GNB model is not only a worse choice because of its lower accuracy, but because it has a high amount of False Positives as well, which should be avoided as explained above."
   ]
  },
  {
   "cell_type": "markdown",
   "metadata": {},
   "source": [
    "### Conclusion"
   ]
  },
  {
   "cell_type": "markdown",
   "metadata": {},
   "source": [
    "All things considered, the Logistic Regression classifier seems to be the best overall choice for this dataset. It has the best accuracy and F1 score and it doesn't have a lot of False Positives. The train and test times are also kept within reasonable limits. There are not any obvious negatives of this classifier, that would point to any other one of the 4 being a better choice."
   ]
  }
 ],
 "metadata": {
  "kernelspec": {
   "display_name": "Python 3.10.4 64-bit",
   "language": "python",
   "name": "python3"
  },
  "language_info": {
   "codemirror_mode": {
    "name": "ipython",
    "version": 3
   },
   "file_extension": ".py",
   "mimetype": "text/x-python",
   "name": "python",
   "nbconvert_exporter": "python",
   "pygments_lexer": "ipython3",
   "version": "3.10.4"
  },
  "orig_nbformat": 4,
  "vscode": {
   "interpreter": {
    "hash": "3ad933181bd8a04b432d3370b9dc3b0662ad032c4dfaa4e4f1596c548f763858"
   }
  }
 },
 "nbformat": 4,
 "nbformat_minor": 2
}
