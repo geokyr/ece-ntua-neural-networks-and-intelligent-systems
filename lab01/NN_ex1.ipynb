{
 "cells": [
  {
   "cell_type": "markdown",
   "metadata": {},
   "source": [
    "# TEAM 44 - HCC Survival (U05) - kdd cyberattack (K09)"
   ]
  },
  {
   "cell_type": "markdown",
   "metadata": {},
   "source": [
    "## Part 1: UCI dataset"
   ]
  },
  {
   "cell_type": "markdown",
   "metadata": {},
   "source": [
    "### Install the required libraries"
   ]
  },
  {
   "cell_type": "code",
   "execution_count": 1,
   "metadata": {},
   "outputs": [
    {
     "name": "stdout",
     "output_type": "stream",
     "text": [
      "Requirement already satisfied: pip in /usr/local/python/3.10.4/lib/python3.10/site-packages (22.3.1)\n",
      "Note: you may need to restart the kernel to use updated packages.\n",
      "Requirement already satisfied: scikit-learn in /home/codespace/.local/lib/python3.10/site-packages (1.1.3)\n",
      "Requirement already satisfied: joblib>=1.0.0 in /home/codespace/.local/lib/python3.10/site-packages (from scikit-learn) (1.2.0)\n",
      "Requirement already satisfied: scipy>=1.3.2 in /home/codespace/.local/lib/python3.10/site-packages (from scikit-learn) (1.9.3)\n",
      "Requirement already satisfied: numpy>=1.17.3 in /usr/local/python/3.10.4/lib/python3.10/site-packages (from scikit-learn) (1.23.5)\n",
      "Requirement already satisfied: threadpoolctl>=2.0.0 in /home/codespace/.local/lib/python3.10/site-packages (from scikit-learn) (3.1.0)\n",
      "Note: you may need to restart the kernel to use updated packages.\n",
      "Requirement already satisfied: numpy in /usr/local/python/3.10.4/lib/python3.10/site-packages (1.23.5)\n",
      "Note: you may need to restart the kernel to use updated packages.\n",
      "Requirement already satisfied: matplotlib in /home/codespace/.local/lib/python3.10/site-packages (3.6.2)\n",
      "Requirement already satisfied: pyparsing>=2.2.1 in /home/codespace/.local/lib/python3.10/site-packages (from matplotlib) (3.0.9)\n",
      "Requirement already satisfied: fonttools>=4.22.0 in /home/codespace/.local/lib/python3.10/site-packages (from matplotlib) (4.38.0)\n",
      "Requirement already satisfied: cycler>=0.10 in /home/codespace/.local/lib/python3.10/site-packages (from matplotlib) (0.11.0)\n",
      "Requirement already satisfied: packaging>=20.0 in /home/codespace/.local/lib/python3.10/site-packages (from matplotlib) (21.3)\n",
      "Requirement already satisfied: pillow>=6.2.0 in /home/codespace/.local/lib/python3.10/site-packages (from matplotlib) (9.3.0)\n",
      "Requirement already satisfied: contourpy>=1.0.1 in /home/codespace/.local/lib/python3.10/site-packages (from matplotlib) (1.0.6)\n",
      "Requirement already satisfied: python-dateutil>=2.7 in /home/codespace/.local/lib/python3.10/site-packages (from matplotlib) (2.8.2)\n",
      "Requirement already satisfied: numpy>=1.19 in /usr/local/python/3.10.4/lib/python3.10/site-packages (from matplotlib) (1.23.5)\n",
      "Requirement already satisfied: kiwisolver>=1.0.1 in /home/codespace/.local/lib/python3.10/site-packages (from matplotlib) (1.4.4)\n",
      "Requirement already satisfied: six>=1.5 in /home/codespace/.local/lib/python3.10/site-packages (from python-dateutil>=2.7->matplotlib) (1.16.0)\n",
      "Note: you may need to restart the kernel to use updated packages.\n",
      "Requirement already satisfied: imbalanced-learn in /usr/local/python/3.10.4/lib/python3.10/site-packages (0.9.1)\n",
      "Requirement already satisfied: scipy>=1.3.2 in /home/codespace/.local/lib/python3.10/site-packages (from imbalanced-learn) (1.9.3)\n",
      "Requirement already satisfied: threadpoolctl>=2.0.0 in /home/codespace/.local/lib/python3.10/site-packages (from imbalanced-learn) (3.1.0)\n",
      "Requirement already satisfied: scikit-learn>=1.1.0 in /home/codespace/.local/lib/python3.10/site-packages (from imbalanced-learn) (1.1.3)\n",
      "Requirement already satisfied: joblib>=1.0.0 in /home/codespace/.local/lib/python3.10/site-packages (from imbalanced-learn) (1.2.0)\n",
      "Requirement already satisfied: numpy>=1.17.3 in /usr/local/python/3.10.4/lib/python3.10/site-packages (from imbalanced-learn) (1.23.5)\n",
      "Note: you may need to restart the kernel to use updated packages.\n",
      "Requirement already satisfied: pandas in /usr/local/python/3.10.4/lib/python3.10/site-packages (1.5.2)\n",
      "Requirement already satisfied: numpy>=1.21.0 in /usr/local/python/3.10.4/lib/python3.10/site-packages (from pandas) (1.23.5)\n",
      "Requirement already satisfied: python-dateutil>=2.8.1 in /home/codespace/.local/lib/python3.10/site-packages (from pandas) (2.8.2)\n",
      "Requirement already satisfied: pytz>=2020.1 in /home/codespace/.local/lib/python3.10/site-packages (from pandas) (2022.6)\n",
      "Requirement already satisfied: six>=1.5 in /home/codespace/.local/lib/python3.10/site-packages (from python-dateutil>=2.8.1->pandas) (1.16.0)\n",
      "Note: you may need to restart the kernel to use updated packages.\n"
     ]
    }
   ],
   "source": [
    "%pip install pip --upgrade\n",
    "%pip install scikit-learn --upgrade\n",
    "%pip install numpy --upgrade\n",
    "%pip install matplotlib --upgrade\n",
    "%pip install imbalanced-learn --upgrade\n",
    "%pip install pandas --upgrade"
   ]
  },
  {
   "cell_type": "markdown",
   "metadata": {},
   "source": [
    "### Intoduction and Overview"
   ]
  },
  {
   "cell_type": "markdown",
   "metadata": {},
   "source": [
    "For this part we will use a UCI dataset, [HCC Survival](https://archive.ics.uci.edu/ml/datasets/HCC+Survival).\n",
    "\n",
    "HCC dataset was obtained at a University Hospital in Portugal and contais several demographic, risk factors, laboratory and overall survival features of 165 real patients diagnosed with HCC. The dataset contains 49 features selected according to the EASL-EORTC (European Association for the Study of the Liver - European Organisation for Research and Treatment of Cancer) Clinical Practice Guidelines, which are the current state-of-the-art on the management of HCC.\n",
    "\n",
    "This is an heterogeneous dataset, with 23 quantitative variables, and 26 qualitative variables. Overall, missing data represents 10.22% of the whole dataset and only eight patients have complete information in all fields (4.85%). The target variables is the survival at 1 year, and was encoded as a binary variable: 0 (dies) and 1 (lives). A certain degree of class-imbalance is also present (63 cases labeled as dies and 102 as lives)."
   ]
  },
  {
   "cell_type": "code",
   "execution_count": 2,
   "metadata": {},
   "outputs": [
    {
     "name": "stdout",
     "output_type": "stream",
     "text": [
      "<class 'pandas.core.frame.DataFrame'>\n",
      "RangeIndex: 165 entries, 0 to 164\n",
      "Data columns (total 50 columns):\n",
      " #   Column  Non-Null Count  Dtype  \n",
      "---  ------  --------------  -----  \n",
      " 0   0       165 non-null    int64  \n",
      " 1   1       147 non-null    float64\n",
      " 2   2       165 non-null    int64  \n",
      " 3   3       148 non-null    float64\n",
      " 4   4       126 non-null    float64\n",
      " 5   5       141 non-null    float64\n",
      " 6   6       156 non-null    float64\n",
      " 7   7       165 non-null    int64  \n",
      " 8   8       126 non-null    float64\n",
      " 9   9       124 non-null    float64\n",
      " 10  10      162 non-null    float64\n",
      " 11  11      155 non-null    float64\n",
      " 12  12      142 non-null    float64\n",
      " 13  13      162 non-null    float64\n",
      " 14  14      163 non-null    float64\n",
      " 15  15      151 non-null    float64\n",
      " 16  16      143 non-null    float64\n",
      " 17  17      113 non-null    float64\n",
      " 18  18      150 non-null    float64\n",
      " 19  19      154 non-null    float64\n",
      " 20  20      162 non-null    float64\n",
      " 21  21      161 non-null    float64\n",
      " 22  22      163 non-null    float64\n",
      " 23  23      165 non-null    int64  \n",
      " 24  24      117 non-null    float64\n",
      " 25  25      112 non-null    float64\n",
      " 26  26      165 non-null    int64  \n",
      " 27  27      164 non-null    float64\n",
      " 28  28      163 non-null    float64\n",
      " 29  29      161 non-null    float64\n",
      " 30  30      157 non-null    float64\n",
      " 31  31      162 non-null    float64\n",
      " 32  32      162 non-null    float64\n",
      " 33  33      162 non-null    float64\n",
      " 34  34      162 non-null    float64\n",
      " 35  35      159 non-null    float64\n",
      " 36  36      160 non-null    float64\n",
      " 37  37      161 non-null    float64\n",
      " 38  38      162 non-null    float64\n",
      " 39  39      162 non-null    float64\n",
      " 40  40      162 non-null    float64\n",
      " 41  41      154 non-null    float64\n",
      " 42  42      158 non-null    float64\n",
      " 43  43      163 non-null    float64\n",
      " 44  44      145 non-null    float64\n",
      " 45  45      121 non-null    float64\n",
      " 46  46      86 non-null     float64\n",
      " 47  47      85 non-null     float64\n",
      " 48  48      85 non-null     float64\n",
      " 49  49      165 non-null    int64  \n",
      "dtypes: float64(44), int64(6)\n",
      "memory usage: 64.6 KB\n",
      "None\n"
     ]
    }
   ],
   "source": [
    "import time\n",
    "import pandas as pd\n",
    "import numpy as np\n",
    "\n",
    "# get hcc_data.txt file\n",
    "!wget -q http://archive.ics.uci.edu/ml/machine-learning-databases/00423/hcc-survival.zip -P resources\n",
    "!unzip -q resources/hcc-survival.zip -d resources\n",
    "!rm resources/hcc-survival.zip\n",
    "!rm -r resources/__MACOSX\n",
    "!mv resources/hcc-survival/hcc-data.txt resources/hcc-data.txt\n",
    "!mv resources/hcc-survival/hcc-description.txt resources/hcc-description.txt\n",
    "!rm -r resources/hcc-survival\n",
    "\n",
    "# read data from hcc_data.txt file and replace missing values with NaN\n",
    "df = pd.read_csv(\"resources/hcc-data.txt\", header=None, na_values = \"?\")\n",
    "\n",
    "# print basic info about dataframe\n",
    "print(df.info())"
   ]
  },
  {
   "cell_type": "markdown",
   "metadata": {},
   "source": [
    "The only transformation applied to the original dataset was the replacement of missing values (denoted by \"?\") by NaN value, using the pandas.read_csv function with the na_values parameter."
   ]
  },
  {
   "cell_type": "markdown",
   "metadata": {},
   "source": [
    "There are 165 instances and 49 features in the dataset. The type of the features are as follows.\n",
    "\n",
    "* Gender: nominal\n",
    "* Symptoms: nominal\n",
    "* Alcohol: nominal\n",
    "* Hepatitis B Surface Antigen: nominal\n",
    "* Hepatitis B e Antigen: nominal\n",
    "* Hepatitis B Core Antibody: nominal\n",
    "* Hepatitis C Virus Antibody: nominal\n",
    "* Cirrhosis : nominal\n",
    "* Endemic Countries: nominal\n",
    "* Smoking: nominal\n",
    "* Diabetes: nominal\n",
    "* Obesity: nominal\n",
    "* Hemochromatosis: nominal\n",
    "* Arterial Hypertension: nominal\n",
    "* Chronic Renal Insufficiency: nominal\n",
    "* Human Immunodeficiency Virus: nominal\n",
    "* Nonalcoholic Steatohepatitis: nominal\n",
    "* Esophageal Varices: nominal\n",
    "* Splenomegaly: nominal\n",
    "* Portal Hypertension: nominal\n",
    "* Portal Vein Thrombosis: nominal\n",
    "* Liver Metastasis: nominal\n",
    "* Radiological Hallmark: nominal\n",
    "* Age at diagnosis: integer\n",
    "* Grams of Alcohol per day: continuous\n",
    "* Packs of cigarets per year: continuous\n",
    "* Performance Status: ordinal\n",
    "* Encefalopathy degree: ordinal\n",
    "* Ascites degree: ordinal\n",
    "* International Normalised Ratio: continuous\n",
    "* Alpha-Fetoprotein (ng/mL): continuous\n",
    "* Haemoglobin (g/dL): continuous\n",
    "* Mean Corpuscular Volume (fl): continuous\n",
    "* Leukocytes(G/L): continuous\n",
    "* Platelets (G/L): continuous\n",
    "* Albumin (mg/dL): continuous\n",
    "* Total Bilirubin(mg/dL): continuous\n",
    "* Alanine transaminase (U/L): continuous\n",
    "* Aspartate transaminase (U/L): continuous\n",
    "* Gamma glutamyl transferase (U/L): continuous\n",
    "* Alkaline phosphatase (U/L): continuous\n",
    "* Total Proteins (g/dL): continuous\n",
    "* Creatinine (mg/dL): continuous\n",
    "* Number of Nodules: integer\n",
    "* Major dimension of nodule (cm): continuous\n",
    "* Direct Bilirubin (mg/dL): continuous\n",
    "* Iron (mcg/dL): continuous\n",
    "* Oxygen Saturation (%): continuous\n",
    "* Ferritin (ng/mL): continuous\n",
    "\n",
    "All the nominal features (the first 23) are not ordinal features."
   ]
  },
  {
   "cell_type": "markdown",
   "metadata": {},
   "source": [
    "There are no labels for the features, and no row indexing."
   ]
  },
  {
   "cell_type": "markdown",
   "metadata": {},
   "source": [
    "The last column (50th) is the label of the classes, which is the survival at 1 year, and was encoded as a binary variable: 0 (dies) and 1 (lives)."
   ]
  },
  {
   "cell_type": "code",
   "execution_count": 3,
   "metadata": {},
   "outputs": [
    {
     "name": "stdout",
     "output_type": "stream",
     "text": [
      "Number of instances with missing values: 157\n",
      "Percentage of instances with missing values: 95.15%\n",
      "Percentage of missing values to total number of values: 10.22%\n",
      "Class frequencies: [ 63 102]\n",
      "Percentage of negative instances: 38.18%\n",
      "Percentage of positive instances: 61.82%\n",
      "Class frequency ratio: 1.62\n"
     ]
    }
   ],
   "source": [
    "# slice the dataframe to split the features from the labels\n",
    "labels_df = df.iloc[:, [49]]\n",
    "labels = labels_df.values.reshape(165)\n",
    "features_df = df.iloc[:, 0:49]\n",
    "features = features_df.values\n",
    "\n",
    "print(f'Number of instances with missing values: {features_df.isnull().values.any(axis=1).sum()}')\n",
    "print(f'Percentage of instances with missing values: {np.format_float_positional(features_df.isnull().values.any(axis=1).sum()/features_df.shape[0]*100, 2)}%')\n",
    "print(f'Percentage of missing values to total number of values: {np.format_float_positional(features_df.isnull().values.sum()/features_df.size*100, 2)}%')\n",
    "\n",
    "print(f'Class frequencies: {np.bincount(labels)}')\n",
    "print(f'Percentage of negative instances: {np.format_float_positional(np.bincount(labels)[0]/labels.shape[0]*100, 2)}%')\n",
    "print(f'Percentage of positive instances: {np.format_float_positional(np.bincount(labels)[1]/labels.shape[0]*100, 2)}%')\n",
    "print(f'Class frequency ratio: {np.format_float_positional(np.max(np.bincount(labels))/np.min(np.bincount(labels)), 2)}')"
   ]
  },
  {
   "cell_type": "markdown",
   "metadata": {},
   "source": [
    "There are missing values. The number of instances with missing values is 157, and their percentage with respect to total number of instances is 95.15%. The missing data represents 10.22% of the whole dataset."
   ]
  },
  {
   "cell_type": "markdown",
   "metadata": {},
   "source": [
    "There are 63 cases labeled as dies and 102 as lives, with 38.18% and 61.82% respectively. This is a class-imbalanced binary dataset, as the 60%-40% ratio is not respected, as showcased by the class frequency ratio with a value over 1.5."
   ]
  },
  {
   "cell_type": "markdown",
   "metadata": {},
   "source": [
    "### Preparation"
   ]
  },
  {
   "cell_type": "code",
   "execution_count": 4,
   "metadata": {},
   "outputs": [],
   "source": [
    "from sklearn.model_selection import train_test_split\n",
    "X_train, X_test, y_train, y_test = train_test_split(features, labels, test_size=0.3, random_state=42)"
   ]
  },
  {
   "cell_type": "code",
   "execution_count": 5,
   "metadata": {},
   "outputs": [],
   "source": [
    "from sklearn.impute import SimpleImputer\n",
    "imp1 = SimpleImputer(missing_values=np.nan, strategy='most_frequent')\n",
    "imp2 = SimpleImputer(missing_values=np.nan, strategy='mean')\n",
    "imp3 = SimpleImputer(missing_values=np.nan, strategy='median')\n",
    "\n",
    "mask1 = [0, 1, 2, 3, 4, 5, 6, 7, 8, 9, 10, 11, 12, 13, 14, 15, 16, 17, 18, 19, 20, 21, 22, 26, 27, 28]\n",
    "mask2 = [24, 25, 29, 30, 31, 32, 33, 34, 35, 36, 37, 38, 39, 40, 41, 42, 44, 45, 46, 47, 48]\n",
    "mask3 = [23, 43]\n",
    "imp1.fit(X_train[:, mask1])\n",
    "imp2.fit(X_train[:, mask2])\n",
    "imp3.fit(X_train[:, mask3])\n",
    "\n",
    "X_train[:, mask1] = imp1.transform(X_train[:, mask1])\n",
    "X_train[:, mask2] = imp2.transform(X_train[:, mask2])\n",
    "X_train[:, mask3] = imp3.transform(X_train[:, mask3])\n",
    "X_test[:, mask1] = imp1.transform(X_test[:, mask1])\n",
    "X_test[:, mask2] = imp2.transform(X_test[:, mask2])\n",
    "X_test[:, mask3] = imp3.transform(X_test[:, mask3])"
   ]
  },
  {
   "cell_type": "markdown",
   "metadata": {},
   "source": [
    "For the missing values we will use the SimpleImputer class from the sklearn.impute module. We will use the most frequent and the mean strategy. The most frequent strategy replaces missing values using the most frequent value along each column, while the mean strategy replaces missing values using the mean value along each column.\n",
    "\n",
    "We used the most frequent strategy on the nominal, integer and ordinal features, where mean value would not be acceptable, and the mean strategy on the continuous features."
   ]
  },
  {
   "cell_type": "code",
   "execution_count": 6,
   "metadata": {},
   "outputs": [
    {
     "name": "stdout",
     "output_type": "stream",
     "text": [
      "Number of samples and features of X_train data: (115, 72)\n",
      "Number of samples and features of X_test data: (50, 72)\n"
     ]
    }
   ],
   "source": [
    "train_data = pd.DataFrame(X_train)\n",
    "test_data = pd.DataFrame(X_test)\n",
    "\n",
    "# concat the train and test data and create dummy features for the nominal ones\n",
    "data = pd.concat([train_data, test_data], axis=0)\n",
    "data = pd.get_dummies(data, columns = [0, 1, 2, 3, 4, 5, 6, 7, 8, 9, 10, 11, 12, 13, 14, 15, 16, 17, 18, 19, 20, 21, 22])\n",
    "\n",
    "# split the data to train and test again with 70-30 ratio\n",
    "X_train = data.iloc[0:115, :].values\n",
    "X_test = data.iloc[115:165, :].values\n",
    "\n",
    "print(f'Number of samples and features of X_train data: {X_train.shape}')\n",
    "print(f'Number of samples and features of X_test data: {X_test.shape}')"
   ]
  },
  {
   "cell_type": "markdown",
   "metadata": {},
   "source": [
    "For the nominal features we will use the get_dummies function from the pandas module. This function is used to convert categorical variable into dummy/indicator variables.\n",
    "\n",
    "We had to concat the train and test data so that the dummy/indicator variables end up being the same for both sets. We then split the data back into train and test sets, following the initial 70-30 ratio."
   ]
  },
  {
   "cell_type": "markdown",
   "metadata": {},
   "source": [
    "### Classification"
   ]
  },
  {
   "cell_type": "markdown",
   "metadata": {},
   "source": [
    "#### Out of the box"
   ]
  },
  {
   "cell_type": "code",
   "execution_count": 7,
   "metadata": {},
   "outputs": [
    {
     "data": {
      "image/png": "[encoded data removed]",
      "text/plain": [
       "<Figure size 1000x500 with 4 Axes>"
      ]
     },
     "metadata": {},
     "output_type": "display_data"
    }
   ],
   "source": [
    "# ignore logistic regression convergence warnings\n",
    "import warnings\n",
    "warnings.filterwarnings('ignore')\n",
    "\n",
    "from sklearn.dummy import DummyClassifier\n",
    "from sklearn.naive_bayes import GaussianNB\n",
    "from sklearn.neighbors import KNeighborsClassifier\n",
    "from sklearn.linear_model import LogisticRegression\n",
    "from sklearn.metrics import accuracy_score, f1_score\n",
    "from sklearn.model_selection import cross_val_score\n",
    "import matplotlib.pyplot as plt\n",
    "\n",
    "# classifiers\n",
    "DC = DummyClassifier()\n",
    "GNB = GaussianNB()\n",
    "KNN = KNeighborsClassifier()\n",
    "LR = LogisticRegression()\n",
    "\n",
    "# fit the classifiers\n",
    "DC.fit(X_train, y_train)\n",
    "GNB.fit(X_train, y_train)\n",
    "KNN.fit(X_train, y_train)\n",
    "LR.fit(X_train, y_train)\n",
    "\n",
    "# predict\n",
    "y_pred_DC = DC.predict(X_test)\n",
    "y_pred_GNB = GNB.predict(X_test)\n",
    "y_pred_KNN = KNN.predict(X_test)\n",
    "y_pred_LR = LR.predict(X_test)\n",
    "\n",
    "# accuracy\n",
    "hcc_accuracy = {}\n",
    "hcc_accuracy['DC'] = accuracy_score(y_test, y_pred_DC)\n",
    "hcc_accuracy['GNB'] = accuracy_score(y_test, y_pred_GNB)\n",
    "hcc_accuracy['KNN'] = accuracy_score(y_test, y_pred_KNN)\n",
    "hcc_accuracy['LR'] = accuracy_score(y_test, y_pred_LR)\n",
    "\n",
    "# f1 score\n",
    "hcc_f1 = {}\n",
    "hcc_f1['DC'] = f1_score(y_test, y_pred_DC)\n",
    "hcc_f1['GNB'] = f1_score(y_test, y_pred_GNB)\n",
    "hcc_f1['KNN'] = f1_score(y_test, y_pred_KNN)\n",
    "hcc_f1['LR'] = f1_score(y_test, y_pred_LR)\n",
    "\n",
    "# bar plot accuracy\n",
    "plt.figure(figsize=(10, 5))\n",
    "plt.subplot(1, 4, 1)\n",
    "plt.bar(range(len(hcc_accuracy)), list(hcc_accuracy.values()), align='center')\n",
    "plt.xticks(range(len(hcc_accuracy)), list(hcc_accuracy.keys()))\n",
    "plt.bar_label(plt.gca().containers[0], fmt='%.2f')\n",
    "plt.title('Accuracy')\n",
    "\n",
    "# bar plot f1 score\n",
    "plt.subplot(1, 4, 2)\n",
    "plt.bar(range(len(hcc_f1)), list(hcc_f1.values()), align='center')\n",
    "plt.xticks(range(len(hcc_f1)), list(hcc_f1.keys()))\n",
    "plt.bar_label(plt.gca().containers[0], fmt='%.2f')\n",
    "plt.title('F1 score')\n",
    "\n",
    "# 10-fold cross validation\n",
    "hcc_accuracy_cv = {}\n",
    "hcc_accuracy_cv['DC'] = cross_val_score(DC, X_train, y_train, cv=10, scoring='accuracy').mean()\n",
    "hcc_accuracy_cv['GNB'] = cross_val_score(GNB, X_train, y_train, cv=10, scoring='accuracy').mean()\n",
    "hcc_accuracy_cv['KNN'] = cross_val_score(KNN, X_train, y_train, cv=10, scoring='accuracy').mean()\n",
    "hcc_accuracy_cv['LR'] = cross_val_score(LR, X_train, y_train, cv=10, scoring='accuracy').mean()\n",
    "\n",
    "hcc_f1_cv = {}\n",
    "hcc_f1_cv['DC'] = cross_val_score(DC, X_train, y_train, cv=10, scoring='f1').mean()\n",
    "hcc_f1_cv['GNB'] = cross_val_score(GNB, X_train, y_train, cv=10, scoring='f1').mean()\n",
    "hcc_f1_cv['KNN'] = cross_val_score(KNN, X_train, y_train, cv=10, scoring='f1').mean()\n",
    "hcc_f1_cv['LR'] = cross_val_score(LR, X_train, y_train, cv=10, scoring='f1').mean()\n",
    "\n",
    "# bar plot cross validation accuracy\n",
    "plt.subplot(1, 4, 3)\n",
    "plt.bar(range(len(hcc_accuracy_cv)), list(hcc_accuracy_cv.values()), align='center')\n",
    "plt.xticks(range(len(hcc_accuracy_cv)), list(hcc_accuracy_cv.keys()))\n",
    "plt.bar_label(plt.gca().containers[0], fmt='%.2f')\n",
    "plt.title('Accuracy (10-F C-V)')\n",
    "\n",
    "# bar plot cross validation f1 score\n",
    "plt.subplot(1, 4, 4)\n",
    "plt.bar(range(len(hcc_f1_cv)), list(hcc_f1_cv.values()), align='center')\n",
    "plt.xticks(range(len(hcc_f1_cv)), list(hcc_f1_cv.keys()))\n",
    "plt.bar_label(plt.gca().containers[0], fmt='%.2f')\n",
    "plt.title('F1 score (10-F C-V)')\n",
    "plt.tight_layout()\n",
    "plt.show()\n"
   ]
  },
  {
   "cell_type": "markdown",
   "metadata": {},
   "source": [
    "Classifier | Accuracy | F1 score | Accuracy (10-Fold Cross-Validation) | F1 score (10-Fold Cross-Validation) \n",
    "---|---|---|---|---\n",
    "Dummy Classifier | 0.56 | 0.72 | 0.64 | 0.78\n",
    "Gaussian Naive Bayes | 0.64 | 0.72 | 0.69 | 0.77\n",
    "K-Nearest Neighbors | 0.56 | 0.66 | 0.65 | 0.74\n",
    "Logistic Regression | 0.70 | 0.75 | 0.70 | 0.77"
   ]
  },
  {
   "cell_type": "markdown",
   "metadata": {},
   "source": [
    "#### Optimization"
   ]
  },
  {
   "cell_type": "markdown",
   "metadata": {},
   "source": [
    "##### Imports, Initializations and Feature Variance"
   ]
  },
  {
   "cell_type": "code",
   "execution_count": 37,
   "metadata": {},
   "outputs": [],
   "source": [
    "# imports and transformers initialization\n",
    "import time\n",
    "from imblearn.pipeline import Pipeline\n",
    "from sklearn.model_selection import GridSearchCV\n",
    "from sklearn.feature_selection import VarianceThreshold\n",
    "from sklearn.preprocessing import StandardScaler\n",
    "from sklearn.preprocessing import MinMaxScaler\n",
    "from imblearn.over_sampling import RandomOverSampler\n",
    "from imblearn.under_sampling import RandomUnderSampler\n",
    "from sklearn.decomposition import PCA\n",
    "from sklearn.metrics import accuracy_score, f1_score\n",
    "\n",
    "selector = VarianceThreshold()\n",
    "standard = StandardScaler()\n",
    "min_max = MinMaxScaler()\n",
    "ros = RandomOverSampler()\n",
    "rus = RandomUnderSampler()\n",
    "pca = PCA()"
   ]
  },
  {
   "cell_type": "code",
   "execution_count": 8,
   "metadata": {},
   "outputs": [
    {
     "name": "stdout",
     "output_type": "stream",
     "text": [
      "- Train data feature variance: \n",
      " [1.64624877e+02 3.05626153e+03 2.40905482e+03 1.31901701e+00\n",
      " 1.95841210e-01 4.38109641e-01 2.26191276e-01 2.97372702e+10\n",
      " 4.26148758e+00 6.67759503e+01 7.83600146e+06 1.17003133e+10\n",
      " 4.66437542e-01 3.09651575e+01 3.88658315e+03 8.74963408e+03\n",
      " 7.25871759e+04 2.20287249e+04 4.51130837e+01 7.72392482e-01\n",
      " 3.11107750e+00 2.39464855e+01 1.47037101e+01 1.63326985e+03\n",
      " 3.89578659e+02 9.71297112e+04 1.37920605e-01 1.37920605e-01\n",
      " 2.21247637e-01 2.21247637e-01 1.88582231e-01 1.88582231e-01\n",
      " 9.34593573e-02 9.34593573e-02 0.00000000e+00 0.00000000e+00\n",
      " 1.74971645e-01 1.74971645e-01 1.60000000e-01 1.60000000e-01\n",
      " 8.65028355e-02 8.65028355e-02 6.47258979e-02 6.47258979e-02\n",
      " 2.29413989e-01 2.29413989e-01 2.24120983e-01 2.24120983e-01\n",
      " 1.06918715e-01 1.06918715e-01 4.15879017e-02 4.15879017e-02\n",
      " 2.24120983e-01 2.24120983e-01 7.93950851e-02 7.93950851e-02\n",
      " 2.54064272e-02 2.54064272e-02 4.94517958e-02 4.94517958e-02\n",
      " 1.70132325e-01 1.70132325e-01 2.41663516e-01 2.41663516e-01\n",
      " 1.88582231e-01 1.88582231e-01 1.74971645e-01 1.74971645e-01\n",
      " 1.70132325e-01 1.70132325e-01 2.18223062e-01 2.18223062e-01]\n",
      "--------------------------------------------------------------------------------\n",
      "- Minimum, maximum, mean and median variance:\n",
      "0.0, 29737270212.38644, 575633774.7028285, 0.21822306238185252\n"
     ]
    }
   ],
   "source": [
    "# check variance to select vthreshold values\n",
    "train_variance = X_train.var(axis=0)\n",
    "print(f'- Train data feature variance: \\n {train_variance}')\n",
    "print(f'--------------------------------------------------------------------------------')\n",
    "print(f'- Minimum, maximum, mean and median variance:')\n",
    "print(f'{np.min(train_variance)}, {np.max(train_variance)}, {np.mean(train_variance)}, {np.median(train_variance)}')"
   ]
  },
  {
   "cell_type": "markdown",
   "metadata": {},
   "source": [
    "##### Gaussian Naive Bayes"
   ]
  },
  {
   "cell_type": "code",
   "execution_count": 94,
   "metadata": {},
   "outputs": [
    {
     "name": "stdout",
     "output_type": "stream",
     "text": [
      "accuracy: 0.7727, vthreshold: 0.2, n_components: 12, var_smoothing: 1e-09\n",
      "accuracy: 0.7727, vthreshold: 0.2, n_components: 12, var_smoothing: 0\n",
      "accuracy: 0.7553, vthreshold: 0.2, n_components: 10, var_smoothing: 0\n",
      "accuracy: 0.7553, vthreshold: 0.2, n_components: 13, var_smoothing: 1e-09\n",
      "accuracy: 0.7553, vthreshold: 0.2, n_components: 10, var_smoothing: 1e-09\n",
      "accuracy: 0.7553, vthreshold: 0.2, n_components: 13, var_smoothing: 0\n",
      "accuracy: 0.7477, vthreshold: 0.21, n_components: 12, var_smoothing: 1e-09\n",
      "accuracy: 0.7477, vthreshold: 0.21, n_components: 12, var_smoothing: 0\n",
      "accuracy: 0.7462, vthreshold: 0.2, n_components: 14, var_smoothing: 1e-09\n"
     ]
    }
   ],
   "source": [
    "# initialize pipeline and grid search for accuracy\n",
    "pipe_acc = Pipeline(steps=[('selector', selector), ('scaler', standard), ('sampler', ros), ('pca', pca), ('classifier', GNB)], memory='tmp')\n",
    "vthreshold_acc = [0.17, 0.18, 0.2, 0.21]\n",
    "n_components_acc = [10, 12, 13, 14, 16, 18]\n",
    "var_smoothing_acc = [0, 1e-9, 1]\n",
    "\n",
    "estimator_acc = GridSearchCV(pipe_acc, dict(selector__threshold=vthreshold_acc, pca__n_components=n_components_acc, classifier__var_smoothing=var_smoothing_acc), cv=10, scoring='accuracy', n_jobs=-1)\n",
    "estimator_acc.fit(X_train, y_train)\n",
    "\n",
    "# print top 9 results\n",
    "results = pd.DataFrame(estimator_acc.cv_results_)\n",
    "results = results.sort_values(by='mean_test_score', ascending=False)\n",
    "results = results[['mean_test_score', 'params']]\n",
    "\n",
    "for i in range(9):\n",
    "    print(f'accuracy: {np.format_float_positional(results.iloc[i, 0], 4)}, vthreshold: {results.iloc[i, 1][\"selector__threshold\"]}, n_components: {results.iloc[i, 1][\"pca__n_components\"]}, var_smoothing: {results.iloc[i, 1][\"classifier__var_smoothing\"]}')"
   ]
  },
  {
   "cell_type": "code",
   "execution_count": 95,
   "metadata": {},
   "outputs": [
    {
     "name": "stdout",
     "output_type": "stream",
     "text": [
      "accuracy: 0.8086, vthreshold: 1.12, n_components: 20, var_smoothing: 1\n",
      "accuracy: 0.8086, vthreshold: 1.11, n_components: 20, var_smoothing: 1\n",
      "accuracy: 0.8086, vthreshold: 1.1, n_components: 20, var_smoothing: 1\n",
      "accuracy: 0.8086, vthreshold: 1.12, n_components: 19, var_smoothing: 1\n",
      "accuracy: 0.8086, vthreshold: 1.11, n_components: 19, var_smoothing: 1\n",
      "accuracy: 0.8086, vthreshold: 1.1, n_components: 19, var_smoothing: 1\n",
      "accuracy: 0.8052, vthreshold: 1.1, n_components: 12, var_smoothing: 1\n",
      "accuracy: 0.8052, vthreshold: 1.12, n_components: 12, var_smoothing: 1\n",
      "accuracy: 0.8052, vthreshold: 1.11, n_components: 12, var_smoothing: 1\n"
     ]
    }
   ],
   "source": [
    "# initialize pipeline and grid search for f1 score\n",
    "pipe_f1 = Pipeline(steps=[('selector', selector), ('scaler', standard), ('sampler', ros), ('pca', pca), ('classifier', GNB)], memory='tmp')\n",
    "vthreshold_f1 = [0.2, 1.1, 1.11, 1.12]\n",
    "n_components_f1 = [10, 11, 12, 19, 20]\n",
    "var_smoothing_f1 = [1]\n",
    "\n",
    "estimator_f1 = GridSearchCV(pipe_f1, dict(selector__threshold=vthreshold_f1, pca__n_components=n_components_f1, classifier__var_smoothing=var_smoothing_f1), cv=10, scoring='f1', n_jobs=-1)\n",
    "estimator_f1.fit(X_train, y_train)\n",
    "\n",
    "# print top 9 results\n",
    "results = pd.DataFrame(estimator_f1.cv_results_)\n",
    "results = results.sort_values(by='mean_test_score', ascending=False)\n",
    "results = results[['mean_test_score', 'params']]\n",
    "\n",
    "for i in range(9):\n",
    "    print(f'accuracy: {np.format_float_positional(results.iloc[i, 0], 4)}, vthreshold: {results.iloc[i, 1][\"selector__threshold\"]}, n_components: {results.iloc[i, 1][\"pca__n_components\"]}, var_smoothing: {results.iloc[i, 1][\"classifier__var_smoothing\"]}')"
   ]
  },
  {
   "cell_type": "code",
   "execution_count": 103,
   "metadata": {},
   "outputs": [
    {
     "name": "stdout",
     "output_type": "stream",
     "text": [
      "- Gaussian Naive Bayes model selection based on accuracy\n",
      "Best estimator: Pipeline(memory='tmp',\n",
      "         steps=[('selector', VarianceThreshold(threshold=0.5)),\n",
      "                ('scaler', StandardScaler()), ('sampler', RandomOverSampler()),\n",
      "                ('pca', PCA(n_components=11)),\n",
      "                ('classifier',\n",
      "                 LogisticRegression(penalty='l1', solver='liblinear'))])\n",
      "Accuracy (10-Fold Cross-Validation): 0.78\n",
      "Time to fit: 0.00802 sec\n",
      "Time to predict: 0.00043 sec\n",
      "Accuracy: 0.68\n",
      "F1 score: 0.70\n",
      "--------------------------------------------------------------------------------\n",
      "- Gaussian Naive Bayes model selection based on F1 score\n",
      "Best estimator: Pipeline(memory='tmp',\n",
      "         steps=[('selector', VarianceThreshold(threshold=0.5)),\n",
      "                ('scaler', StandardScaler()), ('sampler', RandomOverSampler()),\n",
      "                ('pca', PCA(n_components=11)),\n",
      "                ('classifier',\n",
      "                 LogisticRegression(penalty='l1', solver='liblinear'))])\n",
      "F1 score (10-Fold Cross-Validation): 0.82\n",
      "Time to fit: 0.0057 sec\n",
      "Time to predict: 0.00036 sec\n",
      "Accuracy: 0.68\n",
      "F1 score: 0.70\n"
     ]
    }
   ],
   "source": [
    "for estimator, scoring in [(estimator_acc, \"accuracy\"), (estimator_f1, \"F1 score\")]:\n",
    "    # print best estimator\n",
    "    print(f'- Gaussian Naive Bayes model selection based on {scoring}')\n",
    "    print(f'Best estimator: {estimator.best_estimator_}')\n",
    "    print(f'{scoring.capitalize()} (10-Fold Cross-Validation): {np.format_float_positional(estimator.best_score_, 2)}')\n",
    "    \n",
    "    # print fit and predict times\n",
    "    start = time.time()\n",
    "    estimator.best_estimator_.fit(X_train, y_train)\n",
    "    end = time.time()\n",
    "    print(f'Time to fit: {np.format_float_positional(end - start, 5)} sec')\n",
    "\n",
    "    start = time.time()\n",
    "    y_preds = estimator.best_estimator_.predict(X_test)\n",
    "    end = time.time()\n",
    "    print(f'Time to predict: {np.format_float_positional(end - start, 5)} sec')\n",
    "\n",
    "    # print best estimator accuracy and f1 score on test data\n",
    "    print(f'Accuracy: {np.format_float_positional(accuracy_score(y_test, y_preds), 2)}')\n",
    "    print(f'F1 score: {np.format_float_positional(f1_score(y_test, y_preds), 2)}')\n",
    "\n",
    "    if estimator != estimator_f1:\n",
    "        print(f'--------------------------------------------------------------------------------')"
   ]
  },
  {
   "cell_type": "markdown",
   "metadata": {},
   "source": [
    "##### K-Nearest Neighbors"
   ]
  },
  {
   "cell_type": "code",
   "execution_count": 97,
   "metadata": {},
   "outputs": [
    {
     "name": "stdout",
     "output_type": "stream",
     "text": [
      "accuracy: 0.8106, vthreshold: 0.42, n_components: 5, n_neighbors: 60, weights: distance, metric: minkowski\n",
      "accuracy: 0.8106, vthreshold: 0.43, n_components: 5, n_neighbors: 60, weights: distance, metric: minkowski\n",
      "accuracy: 0.8106, vthreshold: 0.42, n_components: 5, n_neighbors: 60, weights: distance, metric: euclidean\n",
      "accuracy: 0.8106, vthreshold: 0.43, n_components: 5, n_neighbors: 60, weights: distance, metric: euclidean\n",
      "accuracy: 0.8030, vthreshold: 0.42, n_components: 5, n_neighbors: 63, weights: distance, metric: minkowski\n",
      "accuracy: 0.8030, vthreshold: 0.43, n_components: 5, n_neighbors: 63, weights: distance, metric: minkowski\n",
      "accuracy: 0.8030, vthreshold: 0.42, n_components: 5, n_neighbors: 63, weights: distance, metric: euclidean\n",
      "accuracy: 0.8030, vthreshold: 0.43, n_components: 5, n_neighbors: 63, weights: distance, metric: euclidean\n",
      "accuracy: 0.7932, vthreshold: 0.44, n_components: 5, n_neighbors: 63, weights: distance, metric: minkowski\n"
     ]
    }
   ],
   "source": [
    "# initialize pipeline and grid search for accuracy\n",
    "pipe_acc = Pipeline(steps=[('selector', selector), ('scaler', standard), ('sampler', ros), ('pca', pca), ('classifier', KNN)], memory='tmp')\n",
    "vthreshold_acc = [0.42, 0.43, 0.44]\n",
    "n_components_acc = [5]\n",
    "k_neighbors_acc = [60, 63]\n",
    "weights_acc = ['distance']\n",
    "metric_acc = ['minkowski', 'euclidean']\n",
    "\n",
    "estimator_acc = GridSearchCV(pipe_acc, dict(selector__threshold=vthreshold_acc, pca__n_components=n_components_acc, classifier__n_neighbors=k_neighbors_acc, classifier__weights=weights_acc, classifier__metric=metric_acc), cv=10, scoring='accuracy', n_jobs=-1)\n",
    "estimator_acc.fit(X_train, y_train)\n",
    "\n",
    "# print top 9 results\n",
    "results = pd.DataFrame(estimator_acc.cv_results_)\n",
    "results = results.sort_values(by='mean_test_score', ascending=False)\n",
    "results = results[['mean_test_score', 'params']]\n",
    "\n",
    "for i in range(9):\n",
    "    print(f'accuracy: {np.format_float_positional(results.iloc[i, 0], 4)}, vthreshold: {results.iloc[i, 1][\"selector__threshold\"]}, n_components: {results.iloc[i, 1][\"pca__n_components\"]}, n_neighbors: {results.iloc[i, 1][\"classifier__n_neighbors\"]}, weights: {results.iloc[i, 1][\"classifier__weights\"]}, metric: {results.iloc[i, 1][\"classifier__metric\"]}')"
   ]
  },
  {
   "cell_type": "code",
   "execution_count": 98,
   "metadata": {},
   "outputs": [
    {
     "name": "stdout",
     "output_type": "stream",
     "text": [
      "accuracy: 0.8466, vthreshold: 0.61, n_components: 5, n_neighbors: 69, weights: distance, metric: euclidean\n",
      "accuracy: 0.8466, vthreshold: 0.6, n_components: 5, n_neighbors: 69, weights: distance, metric: euclidean\n",
      "accuracy: 0.8466, vthreshold: 0.58, n_components: 5, n_neighbors: 69, weights: distance, metric: minkowski\n",
      "accuracy: 0.8466, vthreshold: 0.59, n_components: 5, n_neighbors: 69, weights: distance, metric: minkowski\n",
      "accuracy: 0.8466, vthreshold: 0.6, n_components: 5, n_neighbors: 69, weights: distance, metric: minkowski\n",
      "accuracy: 0.8466, vthreshold: 0.61, n_components: 5, n_neighbors: 69, weights: distance, metric: minkowski\n",
      "accuracy: 0.8466, vthreshold: 0.59, n_components: 5, n_neighbors: 69, weights: distance, metric: euclidean\n",
      "accuracy: 0.8466, vthreshold: 0.58, n_components: 5, n_neighbors: 69, weights: distance, metric: euclidean\n",
      "accuracy: 0.8416, vthreshold: 0.58, n_components: 5, n_neighbors: 68, weights: distance, metric: minkowski\n"
     ]
    }
   ],
   "source": [
    "# initialize pipeline and grid search for f1 score\n",
    "pipe_f1 = Pipeline(steps=[('selector', selector), ('scaler', standard), ('sampler', ros), ('pca', pca), ('classifier', KNN)], memory='tmp')\n",
    "vthreshold_f1 = [0.58, 0.59, 0.6, 0.61]\n",
    "n_components_f1 = [5]\n",
    "k_neighbors_f1 = [68, 69, 70]\n",
    "weights_f1 = ['distance']\n",
    "metric_f1 = ['minkowski', 'euclidean']\n",
    "\n",
    "estimator_f1 = GridSearchCV(pipe_f1, dict(selector__threshold=vthreshold_f1, pca__n_components=n_components_f1, classifier__n_neighbors=k_neighbors_f1, classifier__weights=weights_f1, classifier__metric=metric_f1), cv=10, scoring='f1', n_jobs=-1)\n",
    "estimator_f1.fit(X_train, y_train)\n",
    "\n",
    "# print top 9 results\n",
    "results = pd.DataFrame(estimator_f1.cv_results_)\n",
    "results = results.sort_values(by='mean_test_score', ascending=False)\n",
    "results = results[['mean_test_score', 'params']]\n",
    "\n",
    "for i in range(9):\n",
    "    print(f'accuracy: {np.format_float_positional(results.iloc[i, 0], 4)}, vthreshold: {results.iloc[i, 1][\"selector__threshold\"]}, n_components: {results.iloc[i, 1][\"pca__n_components\"]}, n_neighbors: {results.iloc[i, 1][\"classifier__n_neighbors\"]}, weights: {results.iloc[i, 1][\"classifier__weights\"]}, metric: {results.iloc[i, 1][\"classifier__metric\"]}')"
   ]
  },
  {
   "cell_type": "code",
   "execution_count": 104,
   "metadata": {},
   "outputs": [
    {
     "name": "stdout",
     "output_type": "stream",
     "text": [
      "- K-Nearest Neighbors model selection based on accuracy\n",
      "Best estimator: Pipeline(memory='tmp',\n",
      "         steps=[('selector', VarianceThreshold(threshold=0.5)),\n",
      "                ('scaler', StandardScaler()), ('sampler', RandomOverSampler()),\n",
      "                ('pca', PCA(n_components=11)),\n",
      "                ('classifier',\n",
      "                 LogisticRegression(penalty='l1', solver='liblinear'))])\n",
      "Accuracy (10-Fold Cross-Validation): 0.78\n",
      "Time to fit: 0.00791 sec\n",
      "Time to predict: 0.00046 sec\n",
      "Accuracy: 0.68\n",
      "F1 score: 0.70\n",
      "--------------------------------------------------------------------------------\n",
      "- K-Nearest Neighbors model selection based on F1 score\n",
      "Best estimator: Pipeline(memory='tmp',\n",
      "         steps=[('selector', VarianceThreshold(threshold=0.5)),\n",
      "                ('scaler', StandardScaler()), ('sampler', RandomOverSampler()),\n",
      "                ('pca', PCA(n_components=11)),\n",
      "                ('classifier',\n",
      "                 LogisticRegression(penalty='l1', solver='liblinear'))])\n",
      "F1 score (10-Fold Cross-Validation): 0.82\n",
      "Time to fit: 0.00578 sec\n",
      "Time to predict: 0.00036 sec\n",
      "Accuracy: 0.68\n",
      "F1 score: 0.70\n"
     ]
    }
   ],
   "source": [
    "for estimator, scoring in [(estimator_acc, \"accuracy\"), (estimator_f1, \"F1 score\")]:\n",
    "    # print best estimator\n",
    "    print(f'- K-Nearest Neighbors model selection based on {scoring}')\n",
    "    print(f'Best estimator: {estimator.best_estimator_}')\n",
    "    print(f'{scoring.capitalize()} (10-Fold Cross-Validation): {np.format_float_positional(estimator.best_score_, 2)}')\n",
    "    \n",
    "    # print fit and predict times\n",
    "    start = time.time()\n",
    "    estimator.best_estimator_.fit(X_train, y_train)\n",
    "    end = time.time()\n",
    "    print(f'Time to fit: {np.format_float_positional(end - start, 5)} sec')\n",
    "\n",
    "    start = time.time()\n",
    "    y_preds = estimator.best_estimator_.predict(X_test)\n",
    "    end = time.time()\n",
    "    print(f'Time to predict: {np.format_float_positional(end - start, 5)} sec')\n",
    "\n",
    "    # print best estimator accuracy and f1 score on test data\n",
    "    print(f'Accuracy: {np.format_float_positional(accuracy_score(y_test, y_preds), 2)}')\n",
    "    print(f'F1 score: {np.format_float_positional(f1_score(y_test, y_preds), 2)}')\n",
    "\n",
    "    if estimator != estimator_f1:\n",
    "        print(f'--------------------------------------------------------------------------------')"
   ]
  },
  {
   "cell_type": "markdown",
   "metadata": {},
   "source": [
    "##### Logistic Regression"
   ]
  },
  {
   "cell_type": "code",
   "execution_count": 100,
   "metadata": {},
   "outputs": [
    {
     "name": "stdout",
     "output_type": "stream",
     "text": [
      "accuracy: 0.7818, vthreshold: 0.55, n_components: 11, penalty: l1, solver: liblinear, max_iter: 150\n",
      "accuracy: 0.7818, vthreshold: 0.6, n_components: 11, penalty: l1, solver: liblinear, max_iter: 300\n",
      "accuracy: 0.7818, vthreshold: 0.5, n_components: 11, penalty: l1, solver: liblinear, max_iter: 100\n",
      "accuracy: 0.7818, vthreshold: 0.55, n_components: 11, penalty: l1, solver: liblinear, max_iter: 100\n",
      "accuracy: 0.7818, vthreshold: 0.6, n_components: 11, penalty: l1, solver: liblinear, max_iter: 100\n",
      "accuracy: 0.7818, vthreshold: 0.55, n_components: 11, penalty: l1, solver: liblinear, max_iter: 300\n",
      "accuracy: 0.7818, vthreshold: 0.5, n_components: 11, penalty: l1, solver: liblinear, max_iter: 300\n",
      "accuracy: 0.7818, vthreshold: 0.5, n_components: 11, penalty: l1, solver: liblinear, max_iter: 200\n",
      "accuracy: 0.7818, vthreshold: 0.55, n_components: 11, penalty: l1, solver: liblinear, max_iter: 200\n"
     ]
    }
   ],
   "source": [
    "# initialize pipeline and grid search for accuracy\n",
    "pipe_acc = Pipeline(steps=[('selector', selector), ('scaler', standard), ('sampler', ros), ('pca', pca), ('classifier', LR)], memory='tmp')\n",
    "vthreshold_acc = [0.5, 0.55, 0.6]\n",
    "n_components_acc = [10, 11, 12]\n",
    "penalty_acc = ['l1']\n",
    "solver_acc = ['liblinear']\n",
    "max_iter_acc = [100, 150, 200, 300]\n",
    "\n",
    "estimator_acc = GridSearchCV(pipe_acc, dict(selector__threshold=vthreshold_acc, pca__n_components=n_components_acc, classifier__penalty=penalty_acc, classifier__solver=solver_acc, classifier__max_iter=max_iter_acc), cv=10, scoring='accuracy', n_jobs=-1)\n",
    "estimator_acc.fit(X_train, y_train)\n",
    "\n",
    "# print top 9 results\n",
    "results = pd.DataFrame(estimator_acc.cv_results_)\n",
    "results = results.sort_values(by='mean_test_score', ascending=False)\n",
    "results = results[['mean_test_score', 'params']]\n",
    "\n",
    "for i in range(9):\n",
    "    print(f'accuracy: {np.format_float_positional(results.iloc[i, 0], 4)}, vthreshold: {results.iloc[i, 1][\"selector__threshold\"]}, n_components: {results.iloc[i, 1][\"pca__n_components\"]}, penalty: {results.iloc[i, 1][\"classifier__penalty\"]}, solver: {results.iloc[i, 1][\"classifier__solver\"]}, max_iter: {results.iloc[i, 1][\"classifier__max_iter\"]}')"
   ]
  },
  {
   "cell_type": "code",
   "execution_count": 101,
   "metadata": {},
   "outputs": [
    {
     "name": "stdout",
     "output_type": "stream",
     "text": [
      "accuracy: 0.8188, vthreshold: 0.55, n_components: 11, penalty: l1, solver: liblinear, max_iter: 150\n",
      "accuracy: 0.8188, vthreshold: 0.6, n_components: 11, penalty: l1, solver: liblinear, max_iter: 300\n",
      "accuracy: 0.8188, vthreshold: 0.5, n_components: 11, penalty: l1, solver: liblinear, max_iter: 100\n",
      "accuracy: 0.8188, vthreshold: 0.55, n_components: 11, penalty: l1, solver: liblinear, max_iter: 100\n",
      "accuracy: 0.8188, vthreshold: 0.6, n_components: 11, penalty: l1, solver: liblinear, max_iter: 100\n",
      "accuracy: 0.8188, vthreshold: 0.55, n_components: 11, penalty: l1, solver: liblinear, max_iter: 300\n",
      "accuracy: 0.8188, vthreshold: 0.5, n_components: 11, penalty: l1, solver: liblinear, max_iter: 300\n",
      "accuracy: 0.8188, vthreshold: 0.5, n_components: 11, penalty: l1, solver: liblinear, max_iter: 200\n",
      "accuracy: 0.8188, vthreshold: 0.55, n_components: 11, penalty: l1, solver: liblinear, max_iter: 200\n"
     ]
    }
   ],
   "source": [
    "# initialize pipeline and grid search for f1 score\n",
    "pipe_f1 = Pipeline(steps=[('selector', selector), ('scaler', standard), ('sampler', ros), ('pca', pca), ('classifier', LR)], memory='tmp')\n",
    "vthreshold_f1 = [0.5, 0.55, 0.6]\n",
    "n_components_f1 = [10, 11, 12]\n",
    "penalty_f1 = ['l1']\n",
    "solver_f1 = ['liblinear']\n",
    "max_iter_f1 = [100, 150, 200, 300]\n",
    "\n",
    "estimator_f1 = GridSearchCV(pipe_f1, dict(selector__threshold=vthreshold_f1, pca__n_components=n_components_f1, classifier__penalty=penalty_f1, classifier__solver=solver_f1, classifier__max_iter=max_iter_f1), cv=10, scoring='f1', n_jobs=-1)\n",
    "estimator_f1.fit(X_train, y_train)\n",
    "\n",
    "# print top 9 results\n",
    "results = pd.DataFrame(estimator_f1.cv_results_)\n",
    "results = results.sort_values(by='mean_test_score', ascending=False)\n",
    "results = results[['mean_test_score', 'params']]\n",
    "\n",
    "for i in range(9):\n",
    "    print(f'accuracy: {np.format_float_positional(results.iloc[i, 0], 4)}, vthreshold: {results.iloc[i, 1][\"selector__threshold\"]}, n_components: {results.iloc[i, 1][\"pca__n_components\"]}, penalty: {results.iloc[i, 1][\"classifier__penalty\"]}, solver: {results.iloc[i, 1][\"classifier__solver\"]}, max_iter: {results.iloc[i, 1][\"classifier__max_iter\"]}')"
   ]
  },
  {
   "cell_type": "code",
   "execution_count": 105,
   "metadata": {},
   "outputs": [
    {
     "name": "stdout",
     "output_type": "stream",
     "text": [
      "- Logistic Regression model selection based on accuracy\n",
      "Best estimator: Pipeline(memory='tmp',\n",
      "         steps=[('selector', VarianceThreshold(threshold=0.5)),\n",
      "                ('scaler', StandardScaler()), ('sampler', RandomOverSampler()),\n",
      "                ('pca', PCA(n_components=11)),\n",
      "                ('classifier',\n",
      "                 LogisticRegression(penalty='l1', solver='liblinear'))])\n",
      "Accuracy (10-Fold Cross-Validation): 0.78\n",
      "Time to fit: 0.00921 sec\n",
      "Time to predict: 0.00040 sec\n",
      "Accuracy: 0.68\n",
      "F1 score: 0.70\n",
      "--------------------------------------------------------------------------------\n",
      "- Logistic Regression model selection based on F1 score\n",
      "Best estimator: Pipeline(memory='tmp',\n",
      "         steps=[('selector', VarianceThreshold(threshold=0.5)),\n",
      "                ('scaler', StandardScaler()), ('sampler', RandomOverSampler()),\n",
      "                ('pca', PCA(n_components=11)),\n",
      "                ('classifier',\n",
      "                 LogisticRegression(penalty='l1', solver='liblinear'))])\n",
      "F1 score (10-Fold Cross-Validation): 0.82\n",
      "Time to fit: 0.00583 sec\n",
      "Time to predict: 0.00034 sec\n",
      "Accuracy: 0.68\n",
      "F1 score: 0.70\n"
     ]
    }
   ],
   "source": [
    "for estimator, scoring in [(estimator_acc, \"accuracy\"), (estimator_f1, \"F1 score\")]:\n",
    "    # print best estimator\n",
    "    print(f'- Logistic Regression model selection based on {scoring}')\n",
    "    print(f'Best estimator: {estimator.best_estimator_}')\n",
    "    print(f'{scoring.capitalize()} (10-Fold Cross-Validation): {np.format_float_positional(estimator.best_score_, 2)}')\n",
    "    \n",
    "    # print fit and predict times\n",
    "    start = time.time()\n",
    "    estimator.best_estimator_.fit(X_train, y_train)\n",
    "    end = time.time()\n",
    "    print(f'Time to fit: {np.format_float_positional(end - start, 5)} sec')\n",
    "\n",
    "    start = time.time()\n",
    "    y_preds = estimator.best_estimator_.predict(X_test)\n",
    "    end = time.time()\n",
    "    print(f'Time to predict: {np.format_float_positional(end - start, 5)} sec')\n",
    "\n",
    "    # print best estimator accuracy and f1 score on test data\n",
    "    print(f'Accuracy: {np.format_float_positional(accuracy_score(y_test, y_preds), 2)}')\n",
    "    print(f'F1 score: {np.format_float_positional(f1_score(y_test, y_preds), 2)}')\n",
    "\n",
    "    if estimator != estimator_f1:\n",
    "        print(f'--------------------------------------------------------------------------------')"
   ]
  },
  {
   "cell_type": "markdown",
   "metadata": {},
   "source": [
    "## Part 2: Kaggle dataset"
   ]
  },
  {
   "cell_type": "markdown",
   "metadata": {},
   "source": [
    "Kaggle dataset is [kdd cyberattack](https://www.kaggle.com/datasets/slashtea/kdd-cyberattack)"
   ]
  }
 ],
 "metadata": {
  "kernelspec": {
   "display_name": "Python 3.10.4 64-bit",
   "language": "python",
   "name": "python3"
  },
  "language_info": {
   "codemirror_mode": {
    "name": "ipython",
    "version": 3
   },
   "file_extension": ".py",
   "mimetype": "text/x-python",
   "name": "python",
   "nbconvert_exporter": "python",
   "pygments_lexer": "ipython3",
   "version": "3.10.4"
  },
  "orig_nbformat": 4,
  "vscode": {
   "interpreter": {
    "hash": "3ad933181bd8a04b432d3370b9dc3b0662ad032c4dfaa4e4f1596c548f763858"
   }
  }
 },
 "nbformat": 4,
 "nbformat_minor": 2
}
